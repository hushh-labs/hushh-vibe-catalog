{
 "cells": [
  {
   "cell_type": "markdown",
   "id": "ce1e906e-1e1b-473e-ad0d-7dc0ed50b5f3",
   "metadata": {},
   "source": [
    "# Create a Hushh Vibe Catalog\n",
    "\n",
    "Download an example product catalog from this [Kaggle dataset](https://www.kaggle.com/datasets/paramaggarwal/fashion-product-images-small).\n"
   ]
  },
  {
   "cell_type": "code",
   "execution_count": 19,
   "id": "63f2b9d5-428e-49b3-bf00-dd26ed279cc1",
   "metadata": {},
   "outputs": [],
   "source": [
    "import glob\n",
    "from hushh import catalog\n",
    "from hushh.catalog import Catalog, Product\n",
    "from PIL import Image\n",
    "import json\n",
    "from tqdm import tqdm\n",
    "import pandas as pd\n",
    "import msgpack\n",
    "import os\n",
    "import timeit"
   ]
  },
  {
   "cell_type": "markdown",
   "id": "b5020d17-5ce1-454f-b1ea-168c0f200c9f",
   "metadata": {},
   "source": [
    "## Download Data\n",
    "Uncomment and execute the next two cells to download/unzip the image dataset"
   ]
  },
  {
   "cell_type": "code",
   "execution_count": 2,
   "id": "3b3d6a86-6128-4ce9-af93-8ed6f2ed31ab",
   "metadata": {},
   "outputs": [],
   "source": [
    "# !kaggle datasets download paramaggarwal/fashion-product-images-small --force "
   ]
  },
  {
   "cell_type": "code",
   "execution_count": 3,
   "id": "dd18faa5-1cb8-4035-a400-393f2bb01aca",
   "metadata": {},
   "outputs": [],
   "source": [
    "# ! unzip -o fashion-product-images-small.zip > /dev/null"
   ]
  },
  {
   "cell_type": "markdown",
   "id": "2faaf2e1-02ff-47b0-9807-bd54aa58ea96",
   "metadata": {},
   "source": [
    "## Data Details\n",
    "The dataset contains around ~40K fashion related images"
   ]
  },
  {
   "cell_type": "code",
   "execution_count": 2,
   "id": "6a99a9ea-4d69-4a36-8b14-b795962494ee",
   "metadata": {},
   "outputs": [
    {
     "data": {
      "text/plain": [
       "44441"
      ]
     },
     "execution_count": 2,
     "metadata": {},
     "output_type": "execute_result"
    }
   ],
   "source": [
    "len(glob.glob(\"images/*\"))"
   ]
  },
  {
   "cell_type": "markdown",
   "id": "bac6b87c-1b82-4019-bed2-6c018fdddf40",
   "metadata": {},
   "source": [
    "Taking a quick look at the images, they're jpeg files, with an id as a file name."
   ]
  },
  {
   "cell_type": "code",
   "execution_count": 3,
   "id": "55d7de12-6592-4575-b891-87bef2bbbaa2",
   "metadata": {},
   "outputs": [
    {
     "name": "stdout",
     "output_type": "stream",
     "text": [
      "['images/9733.jpg', 'images/14147.jpg', 'images/52112.jpg', 'images/6400.jpg', 'images/34297.jpg', 'images/24084.jpg', 'images/12536.jpg', 'images/54563.jpg', 'images/15259.jpg', 'images/35189.jpg']\n"
     ]
    }
   ],
   "source": [
    "print(glob.glob(\"images/*\")[:10])"
   ]
  },
  {
   "cell_type": "markdown",
   "id": "a02143a2-b2c7-4f19-a3bc-cec6e9140ef0",
   "metadata": {},
   "source": [
    "The \"styles\" csv file gives some of the metadata for a given id."
   ]
  },
  {
   "cell_type": "code",
   "execution_count": 4,
   "id": "e3cf1060-f5c2-417a-8fb5-475f305abaa9",
   "metadata": {},
   "outputs": [
    {
     "data": {
      "text/html": [
       "<div>\n",
       "<style scoped>\n",
       "    .dataframe tbody tr th:only-of-type {\n",
       "        vertical-align: middle;\n",
       "    }\n",
       "\n",
       "    .dataframe tbody tr th {\n",
       "        vertical-align: top;\n",
       "    }\n",
       "\n",
       "    .dataframe thead th {\n",
       "        text-align: right;\n",
       "    }\n",
       "</style>\n",
       "<table border=\"1\" class=\"dataframe\">\n",
       "  <thead>\n",
       "    <tr style=\"text-align: right;\">\n",
       "      <th></th>\n",
       "      <th>gender</th>\n",
       "      <th>masterCategory</th>\n",
       "      <th>subCategory</th>\n",
       "      <th>articleType</th>\n",
       "      <th>baseColour</th>\n",
       "      <th>season</th>\n",
       "      <th>year</th>\n",
       "      <th>usage</th>\n",
       "      <th>productDisplayName</th>\n",
       "    </tr>\n",
       "    <tr>\n",
       "      <th>id</th>\n",
       "      <th></th>\n",
       "      <th></th>\n",
       "      <th></th>\n",
       "      <th></th>\n",
       "      <th></th>\n",
       "      <th></th>\n",
       "      <th></th>\n",
       "      <th></th>\n",
       "      <th></th>\n",
       "    </tr>\n",
       "  </thead>\n",
       "  <tbody>\n",
       "    <tr>\n",
       "      <th>15970</th>\n",
       "      <td>Men</td>\n",
       "      <td>Apparel</td>\n",
       "      <td>Topwear</td>\n",
       "      <td>Shirts</td>\n",
       "      <td>Navy Blue</td>\n",
       "      <td>Fall</td>\n",
       "      <td>2011.0</td>\n",
       "      <td>Casual</td>\n",
       "      <td>Turtle Check Men Navy Blue Shirt</td>\n",
       "    </tr>\n",
       "    <tr>\n",
       "      <th>39386</th>\n",
       "      <td>Men</td>\n",
       "      <td>Apparel</td>\n",
       "      <td>Bottomwear</td>\n",
       "      <td>Jeans</td>\n",
       "      <td>Blue</td>\n",
       "      <td>Summer</td>\n",
       "      <td>2012.0</td>\n",
       "      <td>Casual</td>\n",
       "      <td>Peter England Men Party Blue Jeans</td>\n",
       "    </tr>\n",
       "    <tr>\n",
       "      <th>59263</th>\n",
       "      <td>Women</td>\n",
       "      <td>Accessories</td>\n",
       "      <td>Watches</td>\n",
       "      <td>Watches</td>\n",
       "      <td>Silver</td>\n",
       "      <td>Winter</td>\n",
       "      <td>2016.0</td>\n",
       "      <td>Casual</td>\n",
       "      <td>Titan Women Silver Watch</td>\n",
       "    </tr>\n",
       "    <tr>\n",
       "      <th>21379</th>\n",
       "      <td>Men</td>\n",
       "      <td>Apparel</td>\n",
       "      <td>Bottomwear</td>\n",
       "      <td>Track Pants</td>\n",
       "      <td>Black</td>\n",
       "      <td>Fall</td>\n",
       "      <td>2011.0</td>\n",
       "      <td>Casual</td>\n",
       "      <td>Manchester United Men Solid Black Track Pants</td>\n",
       "    </tr>\n",
       "    <tr>\n",
       "      <th>53759</th>\n",
       "      <td>Men</td>\n",
       "      <td>Apparel</td>\n",
       "      <td>Topwear</td>\n",
       "      <td>Tshirts</td>\n",
       "      <td>Grey</td>\n",
       "      <td>Summer</td>\n",
       "      <td>2012.0</td>\n",
       "      <td>Casual</td>\n",
       "      <td>Puma Men Grey T-shirt</td>\n",
       "    </tr>\n",
       "  </tbody>\n",
       "</table>\n",
       "</div>"
      ],
      "text/plain": [
       "      gender masterCategory subCategory  articleType baseColour  season  \\\n",
       "id                                                                        \n",
       "15970    Men        Apparel     Topwear       Shirts  Navy Blue    Fall   \n",
       "39386    Men        Apparel  Bottomwear        Jeans       Blue  Summer   \n",
       "59263  Women    Accessories     Watches      Watches     Silver  Winter   \n",
       "21379    Men        Apparel  Bottomwear  Track Pants      Black    Fall   \n",
       "53759    Men        Apparel     Topwear      Tshirts       Grey  Summer   \n",
       "\n",
       "         year   usage                             productDisplayName  \n",
       "id                                                                    \n",
       "15970  2011.0  Casual               Turtle Check Men Navy Blue Shirt  \n",
       "39386  2012.0  Casual             Peter England Men Party Blue Jeans  \n",
       "59263  2016.0  Casual                       Titan Women Silver Watch  \n",
       "21379  2011.0  Casual  Manchester United Men Solid Black Track Pants  \n",
       "53759  2012.0  Casual                          Puma Men Grey T-shirt  "
      ]
     },
     "execution_count": 4,
     "metadata": {},
     "output_type": "execute_result"
    }
   ],
   "source": [
    "styles = pd.read_csv(\"styles.csv\",usecols=range(10), index_col=0)\n",
    "styles.head()"
   ]
  },
  {
   "cell_type": "markdown",
   "id": "ed550a36-6e9c-456f-a3b4-ccc4382df421",
   "metadata": {},
   "source": [
    "## Creating a Hushh Catalog\n",
    "We can create a catalog using the hushh catalog api.  We follow these steps for each image file:\n",
    "\n",
    "1. Extract the id from the filename.\n",
    "2. Lookup the metadata for the id.\n",
    "3. Create a product for the id and metadata (using a dummy url, since we won't be linking to a product url).\n",
    "\n",
    "The Catalog comes with its own method for writing catalog files.\n"
   ]
  },
  {
   "cell_type": "code",
   "execution_count": null,
   "id": "f79c3d89-4236-4b67-9675-fd1f076ebb73",
   "metadata": {},
   "outputs": [
    {
     "name": "stderr",
     "output_type": "stream",
     "text": [
      "100%|█████████████████████████████████████████████████████████████████████████████████████████████████████████████████████████████████████████████████████████████████████████████████████| 44441/44441 [00:14<00:00, 3120.79it/s]\n"
     ]
    },
    {
     "name": "stdout",
     "output_type": "stream",
     "text": [
      "Writing Catalog\n",
      "Collected images and text for batch 0\n",
      "Collected inputs for batch 0\n",
      "Collected Image and text features for batch 0\n",
      "Image embeddings collected for batch 0\n",
      "Text embeddings collected for batch 0\n",
      "Collected images and text for batch 1\n",
      "Collected inputs for batch 1\n",
      "Collected Image and text features for batch 1\n",
      "Image embeddings collected for batch 1\n",
      "Text embeddings collected for batch 1\n",
      "Collected images and text for batch 2\n",
      "Collected inputs for batch 2\n",
      "Collected Image and text features for batch 2\n",
      "Image embeddings collected for batch 2\n",
      "Text embeddings collected for batch 2\n",
      "Collected images and text for batch 3\n",
      "Collected inputs for batch 3\n"
     ]
    }
   ],
   "source": [
    "\n",
    "cat = Catalog(\"demo_catalog\")\n",
    "\n",
    "for filename in tqdm(glob.glob(\"images/*\")):\n",
    "    id, ext = os.path.splitext(os.path.basename(filename))\n",
    "    id = int(id)\n",
    "    style = styles.loc[id]\n",
    "    if pd.isna(style.productDisplayName):\n",
    "        pass\n",
    "        # print(f\"Skipping: {id}, product had no description\")\n",
    "    else:\n",
    "        prod = Product(description=style.productDisplayName, url=\"dummy_url\", image=filename)\n",
    "        cat.addProduct(prod)\n",
    "\n",
    "print(\"Writing Catalog\")\n",
    "cat.to_hcf(\"catalog.hcf\")"
   ]
  },
  {
   "cell_type": "markdown",
   "id": "378489b8-d22c-420d-86c3-1f6b603625a4",
   "metadata": {},
   "source": [
    "## Create a comparison JSON dataset\n",
    "We will set up a quick and dirty json output for comparison.  This just dumps the flatbatch content from the catalog in standard json format."
   ]
  },
  {
   "cell_type": "code",
   "execution_count": 6,
   "id": "87020271-8a04-45ed-90ea-6ca6d135446a",
   "metadata": {},
   "outputs": [],
   "source": [
    "with open (\"catalog.json\", \"w\") as fh:\n",
    "    json.dump(cat.productVibes, fh, default=lambda o: o.__dict__)"
   ]
  },
  {
   "cell_type": "markdown",
   "id": "48da9e13-61d4-40dd-bf8f-32de5f242b73",
   "metadata": {},
   "source": [
    "# Create a comparison MsgPack dataset"
   ]
  },
  {
   "cell_type": "code",
   "execution_count": 41,
   "id": "331b99c7-773f-4888-bbd8-196914accd16",
   "metadata": {},
   "outputs": [],
   "source": [
    "with open (\"catalog.msgpack\", \"wb\") as fh:\n",
    "    packed = msgpack.packb(cat.productVibes, default=lambda o: o.__dict__)\n",
    "    fh.write(packed)"
   ]
  },
  {
   "cell_type": "markdown",
   "id": "6ba74e6c-357a-4743-b77e-95b18fa64f49",
   "metadata": {},
   "source": [
    "# Timings"
   ]
  },
  {
   "cell_type": "code",
   "execution_count": 47,
   "id": "e017eba2-5179-498e-8504-2d6ba4e5fbdd",
   "metadata": {},
   "outputs": [
    {
     "name": "stdout",
     "output_type": "stream",
     "text": [
      "[0.0017621517181396484, 0.0009391307830810547, 0.0007212162017822266, 0.0009021759033203125, 0.0008409023284912109, 0.0009250640869140625, 0.0008530616760253906, 0.0006358623504638672, 0.0006289482116699219, 0.0006871223449707031]\n",
      "[0.9692511558532715, 1.0034160614013672, 1.0053150653839111, 0.8395180702209473, 0.9242990016937256, 0.9968812465667725, 1.0046262741088867, 0.7576639652252197, 0.9129230976104736, 0.9955949783325195]\n",
      "[7.44507908821106, 7.346750974655151, 7.513769865036011, 7.661447763442993, 7.529480934143066, 7.461015701293945, 7.61430025100708, 7.577383995056152, 7.6200478076934814, 7.3818018436431885]\n"
     ]
    }
   ],
   "source": [
    "import time\n",
    "import numpy as np\n",
    "def json_open():\n",
    "    with open('catalog.json', 'r') as fh:\n",
    "        json.load(fh)\n",
    "\n",
    "def msg_open():\n",
    "    with open('catalog.msgpack', 'rb') as fh:\n",
    "        data_loaded = msgpack.unpackb(fh.read())\n",
    "\n",
    "def hcf_open():\n",
    "    catalog.read_hcf(\"test.hcf\")\n",
    "iter = 10\n",
    "\n",
    "def timer(func, iterations=3):\n",
    "    results = []\n",
    "    for i in range(0,iterations):\n",
    "        start = time.time()\n",
    "        func()\n",
    "        duration = time.time() - start\n",
    "        results.append(duration)\n",
    "    return results\n",
    "\n",
    "\n",
    "\n",
    "hcf_result = timer(hcf_open, iter)\n",
    "print(hcf_result)\n",
    "msg_result = timer(msg_open, iter)\n",
    "print(msg_result)\n",
    "json_result = timer(json_open, iter)\n",
    "print(json_result)\n"
   ]
  },
  {
   "cell_type": "code",
   "execution_count": 49,
   "id": "308942f0-92e2-479c-8df7-26ef7a5163ba",
   "metadata": {},
   "outputs": [],
   "source": [
    "import pandas as pd\n",
    "\n",
    "dat= pd.DataFrame({\"hcf\" : hcf_result,\"msgpack\" : msg_result,  \"json\" : json_result})"
   ]
  },
  {
   "cell_type": "code",
   "execution_count": 50,
   "id": "d0e65786-91fe-4827-9c66-dfd82fdcae35",
   "metadata": {},
   "outputs": [
    {
     "data": {
      "text/html": [
       "<div>\n",
       "<style scoped>\n",
       "    .dataframe tbody tr th:only-of-type {\n",
       "        vertical-align: middle;\n",
       "    }\n",
       "\n",
       "    .dataframe tbody tr th {\n",
       "        vertical-align: top;\n",
       "    }\n",
       "\n",
       "    .dataframe thead th {\n",
       "        text-align: right;\n",
       "    }\n",
       "</style>\n",
       "<table border=\"1\" class=\"dataframe\">\n",
       "  <thead>\n",
       "    <tr style=\"text-align: right;\">\n",
       "      <th></th>\n",
       "      <th>hcf</th>\n",
       "      <th>json</th>\n",
       "      <th>msgpack</th>\n",
       "    </tr>\n",
       "  </thead>\n",
       "  <tbody>\n",
       "    <tr>\n",
       "      <th>0</th>\n",
       "      <td>0.001762</td>\n",
       "      <td>7.445079</td>\n",
       "      <td>0.969251</td>\n",
       "    </tr>\n",
       "    <tr>\n",
       "      <th>1</th>\n",
       "      <td>0.000939</td>\n",
       "      <td>7.346751</td>\n",
       "      <td>1.003416</td>\n",
       "    </tr>\n",
       "    <tr>\n",
       "      <th>2</th>\n",
       "      <td>0.000721</td>\n",
       "      <td>7.513770</td>\n",
       "      <td>1.005315</td>\n",
       "    </tr>\n",
       "    <tr>\n",
       "      <th>3</th>\n",
       "      <td>0.000902</td>\n",
       "      <td>7.661448</td>\n",
       "      <td>0.839518</td>\n",
       "    </tr>\n",
       "    <tr>\n",
       "      <th>4</th>\n",
       "      <td>0.000841</td>\n",
       "      <td>7.529481</td>\n",
       "      <td>0.924299</td>\n",
       "    </tr>\n",
       "    <tr>\n",
       "      <th>5</th>\n",
       "      <td>0.000925</td>\n",
       "      <td>7.461016</td>\n",
       "      <td>0.996881</td>\n",
       "    </tr>\n",
       "    <tr>\n",
       "      <th>6</th>\n",
       "      <td>0.000853</td>\n",
       "      <td>7.614300</td>\n",
       "      <td>1.004626</td>\n",
       "    </tr>\n",
       "    <tr>\n",
       "      <th>7</th>\n",
       "      <td>0.000636</td>\n",
       "      <td>7.577384</td>\n",
       "      <td>0.757664</td>\n",
       "    </tr>\n",
       "    <tr>\n",
       "      <th>8</th>\n",
       "      <td>0.000629</td>\n",
       "      <td>7.620048</td>\n",
       "      <td>0.912923</td>\n",
       "    </tr>\n",
       "    <tr>\n",
       "      <th>9</th>\n",
       "      <td>0.000687</td>\n",
       "      <td>7.381802</td>\n",
       "      <td>0.995595</td>\n",
       "    </tr>\n",
       "  </tbody>\n",
       "</table>\n",
       "</div>"
      ],
      "text/plain": [
       "        hcf      json   msgpack\n",
       "0  0.001762  7.445079  0.969251\n",
       "1  0.000939  7.346751  1.003416\n",
       "2  0.000721  7.513770  1.005315\n",
       "3  0.000902  7.661448  0.839518\n",
       "4  0.000841  7.529481  0.924299\n",
       "5  0.000925  7.461016  0.996881\n",
       "6  0.000853  7.614300  1.004626\n",
       "7  0.000636  7.577384  0.757664\n",
       "8  0.000629  7.620048  0.912923\n",
       "9  0.000687  7.381802  0.995595"
      ]
     },
     "execution_count": 50,
     "metadata": {},
     "output_type": "execute_result"
    }
   ],
   "source": [
    "dat"
   ]
  },
  {
   "cell_type": "code",
   "execution_count": 65,
   "id": "90e6bcc7-f5d1-4500-b647-f24c2efdf01e",
   "metadata": {},
   "outputs": [],
   "source": [
    "dat.to_csv(\"results.csv\")"
   ]
  },
  {
   "cell_type": "code",
   "execution_count": 17,
   "id": "6c67ddc8-f6fb-4ce4-94eb-e475407aa360",
   "metadata": {},
   "outputs": [],
   "source": [
    "import pandas as pd\n",
    "dat = pd.read_csv(\"results.csv\", index_col = 0)"
   ]
  },
  {
   "cell_type": "code",
   "execution_count": 18,
   "id": "10b59749-fa1c-40f8-99dc-13557ceaf50c",
   "metadata": {},
   "outputs": [],
   "source": [
    "dat = dat[[\"hcf\", \"msgpack\", \"json\"]]"
   ]
  },
  {
   "cell_type": "code",
   "execution_count": 19,
   "id": "29548b1e-5ab3-4594-b4a2-36079a699d0d",
   "metadata": {},
   "outputs": [
    {
     "data": {
      "text/html": [
       "<div>\n",
       "<style scoped>\n",
       "    .dataframe tbody tr th:only-of-type {\n",
       "        vertical-align: middle;\n",
       "    }\n",
       "\n",
       "    .dataframe tbody tr th {\n",
       "        vertical-align: top;\n",
       "    }\n",
       "\n",
       "    .dataframe thead th {\n",
       "        text-align: right;\n",
       "    }\n",
       "</style>\n",
       "<table border=\"1\" class=\"dataframe\">\n",
       "  <thead>\n",
       "    <tr style=\"text-align: right;\">\n",
       "      <th></th>\n",
       "      <th>hcf</th>\n",
       "      <th>msgpack</th>\n",
       "      <th>json</th>\n",
       "    </tr>\n",
       "  </thead>\n",
       "  <tbody>\n",
       "    <tr>\n",
       "      <th>count</th>\n",
       "      <td>10.000000</td>\n",
       "      <td>10.000000</td>\n",
       "      <td>10.000000</td>\n",
       "    </tr>\n",
       "    <tr>\n",
       "      <th>mean</th>\n",
       "      <td>0.000890</td>\n",
       "      <td>0.940949</td>\n",
       "      <td>7.515108</td>\n",
       "    </tr>\n",
       "    <tr>\n",
       "      <th>std</th>\n",
       "      <td>0.000328</td>\n",
       "      <td>0.084301</td>\n",
       "      <td>0.105566</td>\n",
       "    </tr>\n",
       "    <tr>\n",
       "      <th>min</th>\n",
       "      <td>0.000629</td>\n",
       "      <td>0.757664</td>\n",
       "      <td>7.346751</td>\n",
       "    </tr>\n",
       "    <tr>\n",
       "      <th>25%</th>\n",
       "      <td>0.000696</td>\n",
       "      <td>0.915767</td>\n",
       "      <td>7.449063</td>\n",
       "    </tr>\n",
       "    <tr>\n",
       "      <th>50%</th>\n",
       "      <td>0.000847</td>\n",
       "      <td>0.982423</td>\n",
       "      <td>7.521625</td>\n",
       "    </tr>\n",
       "    <tr>\n",
       "      <th>75%</th>\n",
       "      <td>0.000919</td>\n",
       "      <td>1.001782</td>\n",
       "      <td>7.605071</td>\n",
       "    </tr>\n",
       "    <tr>\n",
       "      <th>max</th>\n",
       "      <td>0.001762</td>\n",
       "      <td>1.005315</td>\n",
       "      <td>7.661448</td>\n",
       "    </tr>\n",
       "  </tbody>\n",
       "</table>\n",
       "</div>"
      ],
      "text/plain": [
       "             hcf    msgpack       json\n",
       "count  10.000000  10.000000  10.000000\n",
       "mean    0.000890   0.940949   7.515108\n",
       "std     0.000328   0.084301   0.105566\n",
       "min     0.000629   0.757664   7.346751\n",
       "25%     0.000696   0.915767   7.449063\n",
       "50%     0.000847   0.982423   7.521625\n",
       "75%     0.000919   1.001782   7.605071\n",
       "max     0.001762   1.005315   7.661448"
      ]
     },
     "execution_count": 19,
     "metadata": {},
     "output_type": "execute_result"
    }
   ],
   "source": [
    "dat.describe()"
   ]
  },
  {
   "cell_type": "code",
   "execution_count": 21,
   "id": "08251ca3-23dd-4d33-a30e-444552268b95",
   "metadata": {},
   "outputs": [
    {
     "data": {
      "image/png": "[encoded data removed]",
      "text/plain": [
       "<Figure size 640x480 with 1 Axes>"
      ]
     },
     "metadata": {},
     "output_type": "display_data"
    }
   ],
   "source": [
    "dat.boxplot();"
   ]
  },
  {
   "cell_type": "code",
   "execution_count": 22,
   "id": "7a5946c1-4c08-4fcc-ae1e-172a9533c6a4",
   "metadata": {},
   "outputs": [
    {
     "data": {
      "image/png": "[encoded data removed]",
      "text/plain": [
       "<Figure size 640x480 with 1 Axes>"
      ]
     },
     "metadata": {},
     "output_type": "display_data"
    }
   ],
   "source": [
    "dat.mean().plot.bar(title=\"Loading Time (seconds)\");"
   ]
  },
  {
   "cell_type": "code",
   "execution_count": 24,
   "id": "d2b1d568-e99f-40c2-83ab-c68a570b4ef3",
   "metadata": {},
   "outputs": [],
   "source": [
    "dat2 = pd.DataFrame({\"hcf\" : [179] ,\"msgpack\" : [357],  \"json\" : [834]})"
   ]
  },
  {
   "cell_type": "code",
   "execution_count": 25,
   "id": "bbe3680f-dfe3-4883-bb39-96359df28488",
   "metadata": {},
   "outputs": [
    {
     "data": {
      "image/png": "[encoded data removed]",
      "text/plain": [
       "<Figure size 640x480 with 1 Axes>"
      ]
     },
     "metadata": {},
     "output_type": "display_data"
    }
   ],
   "source": [
    "dat2.mean().plot.bar(title=\"File Size (MB)\");"
   ]
  },
  {
   "cell_type": "code",
   "execution_count": null,
   "id": "5e95215a-3124-4172-9170-732739d68f18",
   "metadata": {},
   "outputs": [],
   "source": []
  }
 ],
 "metadata": {
  "kernelspec": {
   "display_name": "Python 3 (ipykernel)",
   "language": "python",
   "name": "python3"
  },
  "language_info": {
   "codemirror_mode": {
    "name": "ipython",
    "version": 3
   },
   "file_extension": ".py",
   "mimetype": "text/x-python",
   "name": "python",
   "nbconvert_exporter": "python",
   "pygments_lexer": "ipython3",
   "version": "3.11.7"
  }
 },
 "nbformat": 4,
 "nbformat_minor": 5
}
