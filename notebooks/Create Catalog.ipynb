{
 "cells": [
  {
   "cell_type": "markdown",
   "id": "ce1e906e-1e1b-473e-ad0d-7dc0ed50b5f3",
   "metadata": {},
   "source": [
    "# Create a Hushh Vibe Catalog\n",
    "\n",
    "Download an example product catalog from this [Kaggle dataset](https://www.kaggle.com/datasets/paramaggarwal/fashion-product-images-small).\n"
   ]
  },
  {
   "cell_type": "code",
   "execution_count": 1,
   "id": "63f2b9d5-428e-49b3-bf00-dd26ed279cc1",
   "metadata": {},
   "outputs": [],
   "source": [
    "import glob\n",
    "from hushh import catalog\n",
    "from hushh.catalog import Catalog, Product\n",
    "from PIL import Image\n",
    "import json\n",
    "from tqdm import tqdm\n",
    "import pandas as pd\n",
    "import os"
   ]
  },
  {
   "cell_type": "markdown",
   "id": "b5020d17-5ce1-454f-b1ea-168c0f200c9f",
   "metadata": {},
   "source": [
    "## Download Data\n",
    "Uncomment and execute the next two cells to download/unzip the image dataset"
   ]
  },
  {
   "cell_type": "code",
   "execution_count": 2,
   "id": "3b3d6a86-6128-4ce9-af93-8ed6f2ed31ab",
   "metadata": {},
   "outputs": [],
   "source": [
    "# !kaggle datasets download paramaggarwal/fashion-product-images-small --force "
   ]
  },
  {
   "cell_type": "code",
   "execution_count": 3,
   "id": "dd18faa5-1cb8-4035-a400-393f2bb01aca",
   "metadata": {},
   "outputs": [],
   "source": [
    "# ! unzip -o fashion-product-images-small.zip > /dev/null"
   ]
  },
  {
   "cell_type": "markdown",
   "id": "2faaf2e1-02ff-47b0-9807-bd54aa58ea96",
   "metadata": {},
   "source": [
    "## Data Details\n",
    "The dataset contains around ~40K fashion related images"
   ]
  },
  {
   "cell_type": "code",
   "execution_count": 4,
   "id": "6a99a9ea-4d69-4a36-8b14-b795962494ee",
   "metadata": {},
   "outputs": [
    {
     "data": {
      "text/plain": [
       "44441"
      ]
     },
     "execution_count": 4,
     "metadata": {},
     "output_type": "execute_result"
    }
   ],
   "source": [
    "len(glob.glob(\"images/*\"))"
   ]
  },
  {
   "cell_type": "markdown",
   "id": "bac6b87c-1b82-4019-bed2-6c018fdddf40",
   "metadata": {},
   "source": [
    "Taking a quick look at the images, they're jpeg files, with an id as a file name."
   ]
  },
  {
   "cell_type": "code",
   "execution_count": 5,
   "id": "55d7de12-6592-4575-b891-87bef2bbbaa2",
   "metadata": {},
   "outputs": [
    {
     "name": "stdout",
     "output_type": "stream",
     "text": [
      "['images/9733.jpg', 'images/14147.jpg', 'images/52112.jpg', 'images/6400.jpg', 'images/34297.jpg', 'images/24084.jpg', 'images/12536.jpg', 'images/54563.jpg', 'images/15259.jpg', 'images/35189.jpg']\n"
     ]
    }
   ],
   "source": [
    "print(glob.glob(\"images/*\")[:10])"
   ]
  },
  {
   "cell_type": "markdown",
   "id": "a02143a2-b2c7-4f19-a3bc-cec6e9140ef0",
   "metadata": {},
   "source": [
    "The \"styles\" csv file gives some of the metadata for a given id."
   ]
  },
  {
   "cell_type": "code",
   "execution_count": 6,
   "id": "e3cf1060-f5c2-417a-8fb5-475f305abaa9",
   "metadata": {},
   "outputs": [
    {
     "data": {
      "text/html": [
       "<div>\n",
       "<style scoped>\n",
       "    .dataframe tbody tr th:only-of-type {\n",
       "        vertical-align: middle;\n",
       "    }\n",
       "\n",
       "    .dataframe tbody tr th {\n",
       "        vertical-align: top;\n",
       "    }\n",
       "\n",
       "    .dataframe thead th {\n",
       "        text-align: right;\n",
       "    }\n",
       "</style>\n",
       "<table border=\"1\" class=\"dataframe\">\n",
       "  <thead>\n",
       "    <tr style=\"text-align: right;\">\n",
       "      <th></th>\n",
       "      <th>gender</th>\n",
       "      <th>masterCategory</th>\n",
       "      <th>subCategory</th>\n",
       "      <th>articleType</th>\n",
       "      <th>baseColour</th>\n",
       "      <th>season</th>\n",
       "      <th>year</th>\n",
       "      <th>usage</th>\n",
       "      <th>productDisplayName</th>\n",
       "    </tr>\n",
       "    <tr>\n",
       "      <th>id</th>\n",
       "      <th></th>\n",
       "      <th></th>\n",
       "      <th></th>\n",
       "      <th></th>\n",
       "      <th></th>\n",
       "      <th></th>\n",
       "      <th></th>\n",
       "      <th></th>\n",
       "      <th></th>\n",
       "    </tr>\n",
       "  </thead>\n",
       "  <tbody>\n",
       "    <tr>\n",
       "      <th>15970</th>\n",
       "      <td>Men</td>\n",
       "      <td>Apparel</td>\n",
       "      <td>Topwear</td>\n",
       "      <td>Shirts</td>\n",
       "      <td>Navy Blue</td>\n",
       "      <td>Fall</td>\n",
       "      <td>2011.0</td>\n",
       "      <td>Casual</td>\n",
       "      <td>Turtle Check Men Navy Blue Shirt</td>\n",
       "    </tr>\n",
       "    <tr>\n",
       "      <th>39386</th>\n",
       "      <td>Men</td>\n",
       "      <td>Apparel</td>\n",
       "      <td>Bottomwear</td>\n",
       "      <td>Jeans</td>\n",
       "      <td>Blue</td>\n",
       "      <td>Summer</td>\n",
       "      <td>2012.0</td>\n",
       "      <td>Casual</td>\n",
       "      <td>Peter England Men Party Blue Jeans</td>\n",
       "    </tr>\n",
       "    <tr>\n",
       "      <th>59263</th>\n",
       "      <td>Women</td>\n",
       "      <td>Accessories</td>\n",
       "      <td>Watches</td>\n",
       "      <td>Watches</td>\n",
       "      <td>Silver</td>\n",
       "      <td>Winter</td>\n",
       "      <td>2016.0</td>\n",
       "      <td>Casual</td>\n",
       "      <td>Titan Women Silver Watch</td>\n",
       "    </tr>\n",
       "    <tr>\n",
       "      <th>21379</th>\n",
       "      <td>Men</td>\n",
       "      <td>Apparel</td>\n",
       "      <td>Bottomwear</td>\n",
       "      <td>Track Pants</td>\n",
       "      <td>Black</td>\n",
       "      <td>Fall</td>\n",
       "      <td>2011.0</td>\n",
       "      <td>Casual</td>\n",
       "      <td>Manchester United Men Solid Black Track Pants</td>\n",
       "    </tr>\n",
       "    <tr>\n",
       "      <th>53759</th>\n",
       "      <td>Men</td>\n",
       "      <td>Apparel</td>\n",
       "      <td>Topwear</td>\n",
       "      <td>Tshirts</td>\n",
       "      <td>Grey</td>\n",
       "      <td>Summer</td>\n",
       "      <td>2012.0</td>\n",
       "      <td>Casual</td>\n",
       "      <td>Puma Men Grey T-shirt</td>\n",
       "    </tr>\n",
       "  </tbody>\n",
       "</table>\n",
       "</div>"
      ],
      "text/plain": [
       "      gender masterCategory subCategory  articleType baseColour  season  \\\n",
       "id                                                                        \n",
       "15970    Men        Apparel     Topwear       Shirts  Navy Blue    Fall   \n",
       "39386    Men        Apparel  Bottomwear        Jeans       Blue  Summer   \n",
       "59263  Women    Accessories     Watches      Watches     Silver  Winter   \n",
       "21379    Men        Apparel  Bottomwear  Track Pants      Black    Fall   \n",
       "53759    Men        Apparel     Topwear      Tshirts       Grey  Summer   \n",
       "\n",
       "         year   usage                             productDisplayName  \n",
       "id                                                                    \n",
       "15970  2011.0  Casual               Turtle Check Men Navy Blue Shirt  \n",
       "39386  2012.0  Casual             Peter England Men Party Blue Jeans  \n",
       "59263  2016.0  Casual                       Titan Women Silver Watch  \n",
       "21379  2011.0  Casual  Manchester United Men Solid Black Track Pants  \n",
       "53759  2012.0  Casual                          Puma Men Grey T-shirt  "
      ]
     },
     "execution_count": 6,
     "metadata": {},
     "output_type": "execute_result"
    }
   ],
   "source": [
    "styles = pd.read_csv(\"styles.csv\",usecols=range(10), index_col=0)\n",
    "styles.head()"
   ]
  },
  {
   "cell_type": "markdown",
   "id": "ed550a36-6e9c-456f-a3b4-ccc4382df421",
   "metadata": {},
   "source": [
    "## Creating a Hushh Catalog\n",
    "We can create a catalog using the hushh catalog api.  We follow these steps for each image file:\n",
    "\n",
    "1. Extract the id from the filename.\n",
    "2. Lookup the metadata for the id.\n",
    "3. Create a product for the id and metadata (using a dummy url, since we won't be linking to a product url).\n",
    "\n",
    "The Catalog comes with its own method for writing catalog files.\n"
   ]
  },
  {
   "cell_type": "code",
   "execution_count": 7,
   "id": "f79c3d89-4236-4b67-9675-fd1f076ebb73",
   "metadata": {},
   "outputs": [
    {
     "name": "stderr",
     "output_type": "stream",
     "text": [
      "100%|█████████████████████████████████████████████████████████████████████████████████████████████████████████████████████████████████████████████████████████████████████████████████████| 44441/44441 [00:06<00:00, 7172.86it/s]\n"
     ]
    },
    {
     "name": "stdout",
     "output_type": "stream",
     "text": [
      "Writing Catalog\n",
      "Collected images and text for batch 0\n",
      "Collected inputs for batch 0\n",
      "Collected Image and text features for batch 0\n",
      "Image embeddings collected for batch 0\n",
      "Text embeddings collected for batch 0\n",
      "Collected images and text for batch 1\n",
      "Collected inputs for batch 1\n",
      "Collected Image and text features for batch 1\n",
      "Image embeddings collected for batch 1\n",
      "Text embeddings collected for batch 1\n",
      "Collected images and text for batch 2\n",
      "Collected inputs for batch 2\n",
      "Collected Image and text features for batch 2\n",
      "Image embeddings collected for batch 2\n",
      "Text embeddings collected for batch 2\n",
      "Collected images and text for batch 3\n",
      "Collected inputs for batch 3\n",
      "Collected Image and text features for batch 3\n",
      "Image embeddings collected for batch 3\n",
      "Text embeddings collected for batch 3\n",
      "Collected images and text for batch 4\n",
      "Collected inputs for batch 4\n",
      "Collected Image and text features for batch 4\n",
      "Image embeddings collected for batch 4\n",
      "Text embeddings collected for batch 4\n"
     ]
    }
   ],
   "source": [
    "\n",
    "cat = Catalog(\"demo_catalog\")\n",
    "\n",
    "for filename in tqdm(glob.glob(\"images/*\")):\n",
    "    id, ext = os.path.splitext(os.path.basename(filename))\n",
    "    id = int(id)\n",
    "    style = styles.loc[id]\n",
    "    if pd.isna(style.productDisplayName):\n",
    "        pass\n",
    "        # print(f\"Skipping: {id}, product had no description\")\n",
    "    else:\n",
    "        prod = Product(description=style.productDisplayName, url=\"dummy_url\", image=filename)\n",
    "        cat.addProduct(prod)\n",
    "\n",
    "print(\"Writing Catalog\")\n",
    "cat.to_hcf(\"catalog.hcf\")"
   ]
  },
  {
   "cell_type": "markdown",
   "id": "378489b8-d22c-420d-86c3-1f6b603625a4",
   "metadata": {},
   "source": [
    "## Create a comparison JSON dataset\n",
    "We will set up a quick and dirty json output for comparison.  This just dumps the flatbatch content from the catalog in standard json format."
   ]
  },
  {
   "cell_type": "code",
   "execution_count": 8,
   "id": "87020271-8a04-45ed-90ea-6ca6d135446a",
   "metadata": {},
   "outputs": [],
   "source": [
    "with open (\"catalog.json\", \"w\") as fh:\n",
    "    json.dump(cat.productVibes, fh, default=lambda o: o.__dict__)"
   ]
  },
  {
   "cell_type": "markdown",
   "id": "6ba74e6c-357a-4743-b77e-95b18fa64f49",
   "metadata": {},
   "source": [
    "## JSON timings\n",
    "\n",
    "We can see that it takes roughly 8 seconds to decode a json paylod of ~40K embeddings. "
   ]
  },
  {
   "cell_type": "code",
   "execution_count": 9,
   "id": "e017eba2-5179-498e-8504-2d6ba4e5fbdd",
   "metadata": {},
   "outputs": [
    {
     "name": "stdout",
     "output_type": "stream",
     "text": [
      "8.36 s ± 13 ms per loop (mean ± std. dev. of 7 runs, 3 loops each)\n"
     ]
    }
   ],
   "source": [
    "%timeit -n 3 with open (\"catalog.json\", \"r\") as fh : json.load(fh)"
   ]
  },
  {
   "cell_type": "markdown",
   "id": "270a06d3-d7c8-4fef-b693-b2b886bbf9c7",
   "metadata": {},
   "source": [
    "## HCF timings\n",
    "\n",
    "HCF, by comparison, is loaded in 480 microseconds."
   ]
  },
  {
   "cell_type": "code",
   "execution_count": 10,
   "id": "f55c28b5-6d4f-40d2-b933-d08a8b0d4338",
   "metadata": {},
   "outputs": [
    {
     "name": "stdout",
     "output_type": "stream",
     "text": [
      "432 µs ± 228 µs per loop (mean ± std. dev. of 7 runs, 3 loops each)\n"
     ]
    }
   ],
   "source": [
    "%timeit -n 3 catalog.read_hcf(\"test.hcf\")"
   ]
  },
  {
   "cell_type": "markdown",
   "id": "92328048-b088-4b6a-be79-490d712248c9",
   "metadata": {},
   "source": [
    "## Conclusion\n",
    "\n",
    "HCF's ability to load data directly from a byte stream eliminates most of the overhead of dealing with large embedding formats, making it ideal for quickly loading catalogs of data for search-related functionality.\n",
    "\n",
    "In this particular example, HCF is **~10K times** faster for loading a similar json payload."
   ]
  },
  {
   "cell_type": "code",
   "execution_count": null,
   "id": "75350fd8-b1a3-4c49-8a15-53226fb2d4bf",
   "metadata": {},
   "outputs": [],
   "source": []
  }
 ],
 "metadata": {
  "kernelspec": {
   "display_name": "Python 3 (ipykernel)",
   "language": "python",
   "name": "python3"
  },
  "language_info": {
   "codemirror_mode": {
    "name": "ipython",
    "version": 3
   },
   "file_extension": ".py",
   "mimetype": "text/x-python",
   "name": "python",
   "nbconvert_exporter": "python",
   "pygments_lexer": "ipython3",
   "version": "3.11.6"
  }
 },
 "nbformat": 4,
 "nbformat_minor": 5
}
