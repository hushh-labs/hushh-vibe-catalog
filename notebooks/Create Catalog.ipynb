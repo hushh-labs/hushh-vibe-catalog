{
 "cells": [
  {
   "cell_type": "code",
   "execution_count": 3,
   "id": "3b3d6a86-6128-4ce9-af93-8ed6f2ed31ab",
   "metadata": {},
   "outputs": [
    {
     "name": "stdout",
     "output_type": "stream",
     "text": [
      "Warning: Your Kaggle API key is readable by other users on this system! To fix this, you can run 'chmod 600 /Users/jdonaldson/.kaggle/kaggle.json'\n",
      "Downloading fashion-product-images-small.zip to /Users/jdonaldson/Projects/hushh-vibe-catalog/notebooks\n",
      "100%|███████████████████████████████████████▉| 564M/565M [00:53<00:00, 16.2MB/s]\n",
      "100%|████████████████████████████████████████| 565M/565M [00:53<00:00, 11.1MB/s]\n"
     ]
    }
   ],
   "source": [
    "!kaggle datasets download paramaggarwal/fashion-product-images-small"
   ]
  },
  {
   "cell_type": "code",
   "execution_count": null,
   "id": "dd18faa5-1cb8-4035-a400-393f2bb01aca",
   "metadata": {},
   "outputs": [],
   "source": []
  }
 ],
 "metadata": {
  "kernelspec": {
   "display_name": "Python 3 (ipykernel)",
   "language": "python",
   "name": "python3"
  },
  "language_info": {
   "codemirror_mode": {
    "name": "ipython",
    "version": 3
   },
   "file_extension": ".py",
   "mimetype": "text/x-python",
   "name": "python",
   "nbconvert_exporter": "python",
   "pygments_lexer": "ipython3",
   "version": "3.11.6"
  }
 },
 "nbformat": 4,
 "nbformat_minor": 5
}
