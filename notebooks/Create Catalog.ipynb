{
 "cells": [
  {
   "cell_type": "markdown",
   "id": "ce1e906e-1e1b-473e-ad0d-7dc0ed50b5f3",
   "metadata": {},
   "source": [
    "# Create a Hushh Vibe Catalog\n",
    "\n",
    "Download an example product catalog from this [Kaggle dataset](https://www.kaggle.com/datasets/paramaggarwal/fashion-product-images-small).\n",
    "\n",
    "Unzip it into the `notebooks` directory and it will be ignored by git.\n"
   ]
  },
  {
   "cell_type": "code",
   "execution_count": 1,
   "id": "63f2b9d5-428e-49b3-bf00-dd26ed279cc1",
   "metadata": {},
   "outputs": [],
   "source": [
    "import glob\n",
    "from hushh.catalog import Catalog, Product\n",
    "from PIL import Image\n",
    "import json"
   ]
  },
  {
   "cell_type": "code",
   "execution_count": 2,
   "id": "3b3d6a86-6128-4ce9-af93-8ed6f2ed31ab",
   "metadata": {},
   "outputs": [],
   "source": [
    "# !kaggle datasets download paramaggarwal/fashion-product-images-small --force "
   ]
  },
  {
   "cell_type": "code",
   "execution_count": 3,
   "id": "dd18faa5-1cb8-4035-a400-393f2bb01aca",
   "metadata": {},
   "outputs": [],
   "source": [
    "# ! unzip -o fashion-product-images-small.zip > /dev/null"
   ]
  },
  {
   "cell_type": "markdown",
   "id": "bac6b87c-1b82-4019-bed2-6c018fdddf40",
   "metadata": {},
   "source": [
    "Take a look at the images"
   ]
  },
  {
   "cell_type": "code",
   "execution_count": 4,
   "id": "55d7de12-6592-4575-b891-87bef2bbbaa2",
   "metadata": {},
   "outputs": [
    {
     "name": "stdout",
     "output_type": "stream",
     "text": [
      "['images/9733.jpg', 'images/14147.jpg', 'images/52112.jpg', 'images/6400.jpg', 'images/34297.jpg', 'images/24084.jpg', 'images/12536.jpg', 'images/54563.jpg', 'images/15259.jpg', 'images/35189.jpg']\n"
     ]
    }
   ],
   "source": [
    "print(glob.glob(\"images/*\")[:10])"
   ]
  },
  {
   "cell_type": "code",
   "execution_count": 5,
   "id": "2a7bac6d-d54a-48f5-b050-e9e127a5cdf7",
   "metadata": {},
   "outputs": [
    {
     "name": "stdout",
     "output_type": "stream",
     "text": [
      "['myntradataset/images/9733.jpg', 'myntradataset/images/14147.jpg', 'myntradataset/images/52112.jpg', 'myntradataset/images/6400.jpg', 'myntradataset/images/34297.jpg', 'myntradataset/images/24084.jpg', 'myntradataset/images/12536.jpg', 'myntradataset/images/54563.jpg', 'myntradataset/images/15259.jpg', 'myntradataset/images/35189.jpg']\n"
     ]
    }
   ],
   "source": [
    "\n",
    "print(glob.glob(\"myntradataset/images/*\")[:10])"
   ]
  },
  {
   "cell_type": "markdown",
   "id": "5ad94da2-9e80-44b8-8479-052133d51ccf",
   "metadata": {},
   "source": [
    "Import the necessary classes."
   ]
  },
  {
   "cell_type": "code",
   "execution_count": null,
   "id": "f79c3d89-4236-4b67-9675-fd1f076ebb73",
   "metadata": {},
   "outputs": [
    {
     "name": "stdout",
     "output_type": "stream",
     "text": [
      "Skipping gender                                  Men\n",
      "masterCategory                Personal Care\n",
      "subCategory                       Fragrance\n",
      "articleType           Perfume and Body Mist\n",
      "baseColour                              NaN\n",
      "season                               Spring\n",
      "year                                 2017.0\n",
      "usage                                   NaN\n",
      "productDisplayName                      NaN\n",
      "Name: 45687, dtype: object\n",
      "Skipping gender                      Women\n",
      "masterCategory        Accessories\n",
      "subCategory                  Bags\n",
      "articleType              Clutches\n",
      "baseColour                 Maroon\n",
      "season                     Summer\n",
      "year                       2012.0\n",
      "usage                      Casual\n",
      "productDisplayName            NaN\n",
      "Name: 42878, dtype: object\n"
     ]
    }
   ],
   "source": [
    "from hushh.catalog import Catalog, Product\n",
    "import glob\n",
    "import pandas as pd\n",
    "import os\n",
    "import json\n",
    "styles = pd.read_csv(\"styles.csv\",usecols=range(10), index_col=0)\n",
    "catalog = Catalog(\"demo_catalog\")\n",
    "\n",
    "def process_file(filename):\n",
    "    id, ext = os.path.splitext(os.path.basename(filename))\n",
    "    id = int(id)\n",
    "    style = styles.loc[id]\n",
    "    if pd.isna(style.productDisplayName):\n",
    "        print(f\"Skipping {style}\")\n",
    "    else:\n",
    "        prod = Product(style.productDisplayName, \"dummy_url\", filename)\n",
    "        catalog.addProduct(prod)\n",
    "\n",
    "\n",
    "for filename in glob.glob(\"myntradataset/images/*\")[:10000]:\n",
    "    process_file(filename)\n",
    "\n",
    "catalog.toHCF(\"catalog.hcf\")\n",
    "# with open (\"catalog.json\", \"w\") as fh:\n",
    "#     json.dump(catalog.productVibes.flatBatches, fh, default=lambda o: o.__dict__)\n"
   ]
  },
  {
   "cell_type": "code",
   "execution_count": null,
   "id": "e017eba2-5179-498e-8504-2d6ba4e5fbdd",
   "metadata": {},
   "outputs": [],
   "source": [
    "%timeit -n 10 with open (\"catalog.json\", \"r\") as fh : json.load(fh)\n"
   ]
  },
  {
   "cell_type": "code",
   "execution_count": null,
   "id": "f55c28b5-6d4f-40d2-b933-d08a8b0d4338",
   "metadata": {},
   "outputs": [],
   "source": [
    "%timeit -n 10 catalog.readHCF(\"test.hcf\")"
   ]
  },
  {
   "cell_type": "code",
   "execution_count": null,
   "id": "062e7ecd-80c7-463a-ac5a-9a4c06552900",
   "metadata": {},
   "outputs": [],
   "source": []
  }
 ],
 "metadata": {
  "kernelspec": {
   "display_name": "Python 3 (ipykernel)",
   "language": "python",
   "name": "python3"
  },
  "language_info": {
   "codemirror_mode": {
    "name": "ipython",
    "version": 3
   },
   "file_extension": ".py",
   "mimetype": "text/x-python",
   "name": "python",
   "nbconvert_exporter": "python",
   "pygments_lexer": "ipython3",
   "version": "3.11.6"
  }
 },
 "nbformat": 4,
 "nbformat_minor": 5
}
