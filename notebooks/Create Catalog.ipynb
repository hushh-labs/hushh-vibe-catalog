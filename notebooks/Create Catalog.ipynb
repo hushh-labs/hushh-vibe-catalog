{
 "cells": [
  {
   "cell_type": "markdown",
   "id": "ce1e906e-1e1b-473e-ad0d-7dc0ed50b5f3",
   "metadata": {},
   "source": [
    "# Create a Hushh Vibe Catalog\n",
    "\n",
    "Download an example product catalog from this [Kaggle dataset](https://www.kaggle.com/datasets/paramaggarwal/fashion-product-images-small).\n",
    "\n",
    "Unzip it into the `notebooks` directory and it will be ignored by git.\n"
   ]
  },
  {
   "cell_type": "code",
   "execution_count": 6,
   "id": "3b3d6a86-6128-4ce9-af93-8ed6f2ed31ab",
   "metadata": {},
   "outputs": [
    {
     "name": "stdout",
     "output_type": "stream",
     "text": [
      "Downloading fashion-product-images-small.zip to /Users/jdonaldson/Projects/hushh-vibe-catalog/notebooks\n",
      "100%|███████████████████████████████████████▉| 565M/565M [00:51<00:00, 11.3MB/s]\n",
      "100%|████████████████████████████████████████| 565M/565M [00:51<00:00, 11.6MB/s]\n"
     ]
    }
   ],
   "source": [
    "!kaggle datasets download paramaggarwal/fashion-product-images-small --force "
   ]
  },
  {
   "cell_type": "code",
   "execution_count": 7,
   "id": "dd18faa5-1cb8-4035-a400-393f2bb01aca",
   "metadata": {},
   "outputs": [],
   "source": [
    "! unzip -o fashion-product-images-small.zip > /dev/null"
   ]
  },
  {
   "cell_type": "markdown",
   "id": "bac6b87c-1b82-4019-bed2-6c018fdddf40",
   "metadata": {},
   "source": [
    "Take a look at the images"
   ]
  },
  {
   "cell_type": "code",
   "execution_count": 20,
   "id": "55d7de12-6592-4575-b891-87bef2bbbaa2",
   "metadata": {},
   "outputs": [
    {
     "name": "stdout",
     "output_type": "stream",
     "text": [
      "['images/9733.jpg', 'images/14147.jpg', 'images/52112.jpg', 'images/6400.jpg', 'images/34297.jpg', 'images/24084.jpg', 'images/12536.jpg', 'images/54563.jpg', 'images/15259.jpg', 'images/35189.jpg']\n"
     ]
    }
   ],
   "source": [
    "import glob\n",
    "print(glob.glob(\"images/*\")[:10])"
   ]
  },
  {
   "cell_type": "code",
   "execution_count": 21,
   "id": "2a7bac6d-d54a-48f5-b050-e9e127a5cdf7",
   "metadata": {},
   "outputs": [
    {
     "name": "stdout",
     "output_type": "stream",
     "text": [
      "['myntradataset/images/9733.jpg', 'myntradataset/images/14147.jpg', 'myntradataset/images/52112.jpg', 'myntradataset/images/6400.jpg', 'myntradataset/images/34297.jpg', 'myntradataset/images/24084.jpg', 'myntradataset/images/12536.jpg', 'myntradataset/images/54563.jpg', 'myntradataset/images/15259.jpg', 'myntradataset/images/35189.jpg']\n"
     ]
    }
   ],
   "source": [
    "import glob\n",
    "print(glob.glob(\"myntradataset/images/*\")[:10])"
   ]
  },
  {
   "cell_type": "markdown",
   "id": "5ad94da2-9e80-44b8-8479-052133d51ccf",
   "metadata": {},
   "source": [
    "Import the necessary classes."
   ]
  },
  {
   "cell_type": "code",
   "execution_count": 23,
   "id": "f79c3d89-4236-4b67-9675-fd1f076ebb73",
   "metadata": {},
   "outputs": [
    {
     "ename": "ImportError",
     "evalue": "cannot import name 'Catalog' from 'hushh' (/opt/homebrew/Caskroom/miniconda/base/envs/hushh-vibe-catalog-reader/lib/python3.11/site-packages/hushh/__init__.py)",
     "output_type": "error",
     "traceback": [
      "\u001b[0;31m---------------------------------------------------------------------------\u001b[0m",
      "\u001b[0;31mImportError\u001b[0m                               Traceback (most recent call last)",
      "Cell \u001b[0;32mIn[23], line 1\u001b[0m\n\u001b[0;32m----> 1\u001b[0m \u001b[38;5;28;01mfrom\u001b[39;00m \u001b[38;5;21;01mhushh\u001b[39;00m \u001b[38;5;28;01mimport\u001b[39;00m Catalog, Product\n",
      "\u001b[0;31mImportError\u001b[0m: cannot import name 'Catalog' from 'hushh' (/opt/homebrew/Caskroom/miniconda/base/envs/hushh-vibe-catalog-reader/lib/python3.11/site-packages/hushh/__init__.py)"
     ]
    }
   ],
   "source": [
    "from hushh import Catalog, Product"
   ]
  },
  {
   "cell_type": "code",
   "execution_count": null,
   "id": "e7c43192-92f7-4b44-9527-d8b111828727",
   "metadata": {},
   "outputs": [],
   "source": []
  }
 ],
 "metadata": {
  "kernelspec": {
   "display_name": "Python 3 (ipykernel)",
   "language": "python",
   "name": "python3"
  },
  "language_info": {
   "codemirror_mode": {
    "name": "ipython",
    "version": 3
   },
   "file_extension": ".py",
   "mimetype": "text/x-python",
   "name": "python",
   "nbconvert_exporter": "python",
   "pygments_lexer": "ipython3",
   "version": "3.11.6"
  }
 },
 "nbformat": 4,
 "nbformat_minor": 5
}
