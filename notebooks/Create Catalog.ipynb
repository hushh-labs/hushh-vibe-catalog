{
 "cells": [
  {
   "cell_type": "markdown",
   "id": "ce1e906e-1e1b-473e-ad0d-7dc0ed50b5f3",
   "metadata": {},
   "source": [
    "# Create a Hushh Vibe Catalog\n",
    "\n",
    "Download an example product catalog from this [Kaggle dataset](https://www.kaggle.com/datasets/paramaggarwal/fashion-product-images-small).\n"
   ]
  },
  {
   "cell_type": "code",
   "execution_count": 9,
   "id": "63f2b9d5-428e-49b3-bf00-dd26ed279cc1",
   "metadata": {},
   "outputs": [],
   "source": [
    "import glob\n",
    "from hushh import catalog\n",
    "from hushh.catalog import Catalog, Product, Brand\n",
    "from PIL import Image\n",
    "import json\n",
    "from tqdm import tqdm\n",
    "import pandas as pd\n",
    "import msgpack\n",
    "import os\n",
    "import timeit"
   ]
  },
  {
   "cell_type": "markdown",
   "id": "b5020d17-5ce1-454f-b1ea-168c0f200c9f",
   "metadata": {},
   "source": [
    "## Download Data\n",
    "Uncomment and execute the next two cells to download/unzip the image dataset"
   ]
  },
  {
   "cell_type": "code",
   "execution_count": 2,
   "id": "3b3d6a86-6128-4ce9-af93-8ed6f2ed31ab",
   "metadata": {},
   "outputs": [],
   "source": [
    "# !kaggle datasets download paramaggarwal/fashion-product-images-small --force "
   ]
  },
  {
   "cell_type": "code",
   "execution_count": 3,
   "id": "dd18faa5-1cb8-4035-a400-393f2bb01aca",
   "metadata": {},
   "outputs": [],
   "source": [
    "# ! unzip -o fashion-product-images-small.zip > /dev/null"
   ]
  },
  {
   "cell_type": "markdown",
   "id": "2faaf2e1-02ff-47b0-9807-bd54aa58ea96",
   "metadata": {},
   "source": [
    "## Data Details\n",
    "The dataset contains around ~40K fashion related images"
   ]
  },
  {
   "cell_type": "code",
   "execution_count": 4,
   "id": "6a99a9ea-4d69-4a36-8b14-b795962494ee",
   "metadata": {},
   "outputs": [
    {
     "data": {
      "text/plain": [
       "44441"
      ]
     },
     "execution_count": 4,
     "metadata": {},
     "output_type": "execute_result"
    }
   ],
   "source": [
    "len(glob.glob(\"images/*\"))"
   ]
  },
  {
   "cell_type": "markdown",
   "id": "bac6b87c-1b82-4019-bed2-6c018fdddf40",
   "metadata": {},
   "source": [
    "Taking a quick look at the images, they're jpeg files, with an id as a file name."
   ]
  },
  {
   "cell_type": "code",
   "execution_count": 5,
   "id": "55d7de12-6592-4575-b891-87bef2bbbaa2",
   "metadata": {},
   "outputs": [
    {
     "name": "stdout",
     "output_type": "stream",
     "text": [
      "['images/9733.jpg', 'images/14147.jpg', 'images/52112.jpg', 'images/6400.jpg', 'images/34297.jpg', 'images/24084.jpg', 'images/12536.jpg', 'images/54563.jpg', 'images/15259.jpg', 'images/35189.jpg']\n"
     ]
    }
   ],
   "source": [
    "print(glob.glob(\"images/*\")[:10])"
   ]
  },
  {
   "cell_type": "markdown",
   "id": "a02143a2-b2c7-4f19-a3bc-cec6e9140ef0",
   "metadata": {},
   "source": [
    "The \"styles\" csv file gives some of the metadata for a given id."
   ]
  },
  {
   "cell_type": "code",
   "execution_count": 6,
   "id": "e3cf1060-f5c2-417a-8fb5-475f305abaa9",
   "metadata": {},
   "outputs": [
    {
     "data": {
      "text/html": [
       "<div>\n",
       "<style scoped>\n",
       "    .dataframe tbody tr th:only-of-type {\n",
       "        vertical-align: middle;\n",
       "    }\n",
       "\n",
       "    .dataframe tbody tr th {\n",
       "        vertical-align: top;\n",
       "    }\n",
       "\n",
       "    .dataframe thead th {\n",
       "        text-align: right;\n",
       "    }\n",
       "</style>\n",
       "<table border=\"1\" class=\"dataframe\">\n",
       "  <thead>\n",
       "    <tr style=\"text-align: right;\">\n",
       "      <th></th>\n",
       "      <th>gender</th>\n",
       "      <th>masterCategory</th>\n",
       "      <th>subCategory</th>\n",
       "      <th>articleType</th>\n",
       "      <th>baseColour</th>\n",
       "      <th>season</th>\n",
       "      <th>year</th>\n",
       "      <th>usage</th>\n",
       "      <th>productDisplayName</th>\n",
       "    </tr>\n",
       "    <tr>\n",
       "      <th>id</th>\n",
       "      <th></th>\n",
       "      <th></th>\n",
       "      <th></th>\n",
       "      <th></th>\n",
       "      <th></th>\n",
       "      <th></th>\n",
       "      <th></th>\n",
       "      <th></th>\n",
       "      <th></th>\n",
       "    </tr>\n",
       "  </thead>\n",
       "  <tbody>\n",
       "    <tr>\n",
       "      <th>15970</th>\n",
       "      <td>Men</td>\n",
       "      <td>Apparel</td>\n",
       "      <td>Topwear</td>\n",
       "      <td>Shirts</td>\n",
       "      <td>Navy Blue</td>\n",
       "      <td>Fall</td>\n",
       "      <td>2011.0</td>\n",
       "      <td>Casual</td>\n",
       "      <td>Turtle Check Men Navy Blue Shirt</td>\n",
       "    </tr>\n",
       "    <tr>\n",
       "      <th>39386</th>\n",
       "      <td>Men</td>\n",
       "      <td>Apparel</td>\n",
       "      <td>Bottomwear</td>\n",
       "      <td>Jeans</td>\n",
       "      <td>Blue</td>\n",
       "      <td>Summer</td>\n",
       "      <td>2012.0</td>\n",
       "      <td>Casual</td>\n",
       "      <td>Peter England Men Party Blue Jeans</td>\n",
       "    </tr>\n",
       "    <tr>\n",
       "      <th>59263</th>\n",
       "      <td>Women</td>\n",
       "      <td>Accessories</td>\n",
       "      <td>Watches</td>\n",
       "      <td>Watches</td>\n",
       "      <td>Silver</td>\n",
       "      <td>Winter</td>\n",
       "      <td>2016.0</td>\n",
       "      <td>Casual</td>\n",
       "      <td>Titan Women Silver Watch</td>\n",
       "    </tr>\n",
       "    <tr>\n",
       "      <th>21379</th>\n",
       "      <td>Men</td>\n",
       "      <td>Apparel</td>\n",
       "      <td>Bottomwear</td>\n",
       "      <td>Track Pants</td>\n",
       "      <td>Black</td>\n",
       "      <td>Fall</td>\n",
       "      <td>2011.0</td>\n",
       "      <td>Casual</td>\n",
       "      <td>Manchester United Men Solid Black Track Pants</td>\n",
       "    </tr>\n",
       "    <tr>\n",
       "      <th>53759</th>\n",
       "      <td>Men</td>\n",
       "      <td>Apparel</td>\n",
       "      <td>Topwear</td>\n",
       "      <td>Tshirts</td>\n",
       "      <td>Grey</td>\n",
       "      <td>Summer</td>\n",
       "      <td>2012.0</td>\n",
       "      <td>Casual</td>\n",
       "      <td>Puma Men Grey T-shirt</td>\n",
       "    </tr>\n",
       "  </tbody>\n",
       "</table>\n",
       "</div>"
      ],
      "text/plain": [
       "      gender masterCategory subCategory  articleType baseColour  season  \\\n",
       "id                                                                        \n",
       "15970    Men        Apparel     Topwear       Shirts  Navy Blue    Fall   \n",
       "39386    Men        Apparel  Bottomwear        Jeans       Blue  Summer   \n",
       "59263  Women    Accessories     Watches      Watches     Silver  Winter   \n",
       "21379    Men        Apparel  Bottomwear  Track Pants      Black    Fall   \n",
       "53759    Men        Apparel     Topwear      Tshirts       Grey  Summer   \n",
       "\n",
       "         year   usage                             productDisplayName  \n",
       "id                                                                    \n",
       "15970  2011.0  Casual               Turtle Check Men Navy Blue Shirt  \n",
       "39386  2012.0  Casual             Peter England Men Party Blue Jeans  \n",
       "59263  2016.0  Casual                       Titan Women Silver Watch  \n",
       "21379  2011.0  Casual  Manchester United Men Solid Black Track Pants  \n",
       "53759  2012.0  Casual                          Puma Men Grey T-shirt  "
      ]
     },
     "execution_count": 6,
     "metadata": {},
     "output_type": "execute_result"
    }
   ],
   "source": [
    "styles = pd.read_csv(\"styles.csv\",usecols=range(10), index_col=0)\n",
    "styles.head()"
   ]
  },
  {
   "cell_type": "markdown",
   "id": "ed550a36-6e9c-456f-a3b4-ccc4382df421",
   "metadata": {},
   "source": [
    "## Creating a Hushh Catalog\n",
    "We can create a catalog using the hushh catalog api.  We follow these steps for each image file:\n",
    "\n",
    "1. Extract the id from the filename.\n",
    "2. Lookup the metadata for the id.\n",
    "3. Create a product for the id and metadata (using a dummy url, since we won't be linking to a product url).\n",
    "\n",
    "The Catalog comes with its own method for writing catalog files.\n"
   ]
  },
  {
   "cell_type": "code",
   "execution_count": 10,
   "id": "f79c3d89-4236-4b67-9675-fd1f076ebb73",
   "metadata": {},
   "outputs": [
    {
     "name": "stderr",
     "output_type": "stream",
     "text": [
      "100%|████████████████████████████████████████████████████████████████████████████████████████████████████████████████████████████████████████████████████████████████████████████████████████████████████████████████████████████████████████████████████████████████████████████████████████████████████| 44441/44441 [00:14<00:00, 3134.00it/s]\n"
     ]
    },
    {
     "name": "stdout",
     "output_type": "stream",
     "text": [
      "Writing Catalog\n",
      "Collected images and text for batch 0\n",
      "Collected inputs for batch 0\n",
      "Collected Image and text features for batch 0\n",
      "Image embeddings collected for batch 0\n",
      "Text embeddings collected for batch 0\n",
      "Collected images and text for batch 1\n",
      "Collected inputs for batch 1\n",
      "Collected Image and text features for batch 1\n",
      "Image embeddings collected for batch 1\n",
      "Text embeddings collected for batch 1\n",
      "Collected images and text for batch 2\n",
      "Collected inputs for batch 2\n",
      "Collected Image and text features for batch 2\n",
      "Image embeddings collected for batch 2\n",
      "Text embeddings collected for batch 2\n",
      "Collected images and text for batch 3\n",
      "Collected inputs for batch 3\n",
      "Collected Image and text features for batch 3\n",
      "Image embeddings collected for batch 3\n",
      "Text embeddings collected for batch 3\n",
      "Collected images and text for batch 4\n",
      "Collected inputs for batch 4\n",
      "Collected Image and text features for batch 4\n",
      "Image embeddings collected for batch 4\n",
      "Text embeddings collected for batch 4\n"
     ]
    }
   ],
   "source": [
    "\n",
    "cat = Catalog(\"demo_catalog\")\n",
    "dummy_brand = Brand(\"dummy\", \"description\", \"dummy_url\")\n",
    "for filename in tqdm(glob.glob(\"images/*\")):\n",
    "    id, ext = os.path.splitext(os.path.basename(filename))\n",
    "    id = int(id)\n",
    "    style = styles.loc[id]\n",
    "    if pd.isna(style.productDisplayName):\n",
    "        pass\n",
    "        # print(f\"Skipping: {id}, product had no description\")\n",
    "    else:\n",
    "        prod = Product(description=style.productDisplayName, url=\"dummy_url\", image=filename, brand = dummy_brand)\n",
    "        cat.addProduct(prod)\n",
    "\n",
    "print(\"Writing Catalog\")\n",
    "cat.to_hcf(\"catalog.hcf\")"
   ]
  },
  {
   "cell_type": "markdown",
   "id": "378489b8-d22c-420d-86c3-1f6b603625a4",
   "metadata": {},
   "source": [
    "## Create a comparison JSON dataset\n",
    "We will set up a quick and dirty json output for comparison.  This just dumps the flatbatch content from the catalog in standard json format."
   ]
  },
  {
   "cell_type": "code",
   "execution_count": 11,
   "id": "87020271-8a04-45ed-90ea-6ca6d135446a",
   "metadata": {},
   "outputs": [],
   "source": [
    "with open (\"catalog.json\", \"w\") as fh:\n",
    "    json.dump(cat.productVibes, fh, default=lambda o: o.__dict__)"
   ]
  },
  {
   "cell_type": "markdown",
   "id": "48da9e13-61d4-40dd-bf8f-32de5f242b73",
   "metadata": {},
   "source": [
    "# Create a comparison MsgPack dataset"
   ]
  },
  {
   "cell_type": "code",
   "execution_count": 12,
   "id": "331b99c7-773f-4888-bbd8-196914accd16",
   "metadata": {},
   "outputs": [],
   "source": [
    "with open (\"catalog.msgpack\", \"wb\") as fh:\n",
    "    packed = msgpack.packb(cat.productVibes, default=lambda o: o.__dict__)\n",
    "    fh.write(packed)"
   ]
  },
  {
   "cell_type": "markdown",
   "id": "6ba74e6c-357a-4743-b77e-95b18fa64f49",
   "metadata": {},
   "source": [
    "# Timings"
   ]
  },
  {
   "cell_type": "code",
   "execution_count": 13,
   "id": "e017eba2-5179-498e-8504-2d6ba4e5fbdd",
   "metadata": {},
   "outputs": [
    {
     "name": "stdout",
     "output_type": "stream",
     "text": [
      "[0.0015377998352050781, 0.0005290508270263672, 0.0003757476806640625, 0.00036406517028808594, 0.00032210350036621094, 0.0002968311309814453, 0.00028395652770996094, 0.00029730796813964844, 0.0002753734588623047, 0.0002880096435546875]\n",
      "[1.020730972290039, 1.0010380744934082, 1.0054049491882324, 1.0061712265014648, 1.0044982433319092, 1.0037586688995361, 1.0393331050872803, 1.0700643062591553, 1.0448849201202393, 1.1458632946014404]\n",
      "[8.437949895858765, 8.285770893096924, 8.308837890625, 8.547929048538208, 8.436304807662964, 8.378078937530518, 8.430732011795044, 8.348234176635742, 8.325695991516113, 8.285079717636108]\n"
     ]
    }
   ],
   "source": [
    "import time\n",
    "import numpy as np\n",
    "def json_open():\n",
    "    with open('catalog.json', 'r') as fh:\n",
    "        json.load(fh)\n",
    "\n",
    "def msg_open():\n",
    "    with open('catalog.msgpack', 'rb') as fh:\n",
    "        data_loaded = msgpack.unpackb(fh.read())\n",
    "\n",
    "def hcf_open():\n",
    "    catalog.read_hcf(\"test.hcf\")\n",
    "iter = 10\n",
    "\n",
    "def timer(func, iterations=3):\n",
    "    results = []\n",
    "    for i in range(0,iterations):\n",
    "        start = time.time()\n",
    "        func()\n",
    "        duration = time.time() - start\n",
    "        results.append(duration)\n",
    "    return results\n",
    "\n",
    "\n",
    "\n",
    "hcf_result = timer(hcf_open, iter)\n",
    "print(hcf_result)\n",
    "msg_result = timer(msg_open, iter)\n",
    "print(msg_result)\n",
    "json_result = timer(json_open, iter)\n",
    "print(json_result)\n"
   ]
  },
  {
   "cell_type": "code",
   "execution_count": 14,
   "id": "308942f0-92e2-479c-8df7-26ef7a5163ba",
   "metadata": {},
   "outputs": [],
   "source": [
    "import pandas as pd\n",
    "\n",
    "dat= pd.DataFrame({\"hcf\" : hcf_result,\"msgpack\" : msg_result,  \"json\" : json_result})"
   ]
  },
  {
   "cell_type": "code",
   "execution_count": 15,
   "id": "d0e65786-91fe-4827-9c66-dfd82fdcae35",
   "metadata": {},
   "outputs": [
    {
     "data": {
      "text/html": [
       "<div>\n",
       "<style scoped>\n",
       "    .dataframe tbody tr th:only-of-type {\n",
       "        vertical-align: middle;\n",
       "    }\n",
       "\n",
       "    .dataframe tbody tr th {\n",
       "        vertical-align: top;\n",
       "    }\n",
       "\n",
       "    .dataframe thead th {\n",
       "        text-align: right;\n",
       "    }\n",
       "</style>\n",
       "<table border=\"1\" class=\"dataframe\">\n",
       "  <thead>\n",
       "    <tr style=\"text-align: right;\">\n",
       "      <th></th>\n",
       "      <th>hcf</th>\n",
       "      <th>msgpack</th>\n",
       "      <th>json</th>\n",
       "    </tr>\n",
       "  </thead>\n",
       "  <tbody>\n",
       "    <tr>\n",
       "      <th>0</th>\n",
       "      <td>0.001538</td>\n",
       "      <td>1.020731</td>\n",
       "      <td>8.437950</td>\n",
       "    </tr>\n",
       "    <tr>\n",
       "      <th>1</th>\n",
       "      <td>0.000529</td>\n",
       "      <td>1.001038</td>\n",
       "      <td>8.285771</td>\n",
       "    </tr>\n",
       "    <tr>\n",
       "      <th>2</th>\n",
       "      <td>0.000376</td>\n",
       "      <td>1.005405</td>\n",
       "      <td>8.308838</td>\n",
       "    </tr>\n",
       "    <tr>\n",
       "      <th>3</th>\n",
       "      <td>0.000364</td>\n",
       "      <td>1.006171</td>\n",
       "      <td>8.547929</td>\n",
       "    </tr>\n",
       "    <tr>\n",
       "      <th>4</th>\n",
       "      <td>0.000322</td>\n",
       "      <td>1.004498</td>\n",
       "      <td>8.436305</td>\n",
       "    </tr>\n",
       "    <tr>\n",
       "      <th>5</th>\n",
       "      <td>0.000297</td>\n",
       "      <td>1.003759</td>\n",
       "      <td>8.378079</td>\n",
       "    </tr>\n",
       "    <tr>\n",
       "      <th>6</th>\n",
       "      <td>0.000284</td>\n",
       "      <td>1.039333</td>\n",
       "      <td>8.430732</td>\n",
       "    </tr>\n",
       "    <tr>\n",
       "      <th>7</th>\n",
       "      <td>0.000297</td>\n",
       "      <td>1.070064</td>\n",
       "      <td>8.348234</td>\n",
       "    </tr>\n",
       "    <tr>\n",
       "      <th>8</th>\n",
       "      <td>0.000275</td>\n",
       "      <td>1.044885</td>\n",
       "      <td>8.325696</td>\n",
       "    </tr>\n",
       "    <tr>\n",
       "      <th>9</th>\n",
       "      <td>0.000288</td>\n",
       "      <td>1.145863</td>\n",
       "      <td>8.285080</td>\n",
       "    </tr>\n",
       "  </tbody>\n",
       "</table>\n",
       "</div>"
      ],
      "text/plain": [
       "        hcf   msgpack      json\n",
       "0  0.001538  1.020731  8.437950\n",
       "1  0.000529  1.001038  8.285771\n",
       "2  0.000376  1.005405  8.308838\n",
       "3  0.000364  1.006171  8.547929\n",
       "4  0.000322  1.004498  8.436305\n",
       "5  0.000297  1.003759  8.378079\n",
       "6  0.000284  1.039333  8.430732\n",
       "7  0.000297  1.070064  8.348234\n",
       "8  0.000275  1.044885  8.325696\n",
       "9  0.000288  1.145863  8.285080"
      ]
     },
     "execution_count": 15,
     "metadata": {},
     "output_type": "execute_result"
    }
   ],
   "source": [
    "dat"
   ]
  },
  {
   "cell_type": "code",
   "execution_count": 16,
   "id": "90e6bcc7-f5d1-4500-b647-f24c2efdf01e",
   "metadata": {},
   "outputs": [],
   "source": [
    "dat.to_csv(\"results.csv\")"
   ]
  },
  {
   "cell_type": "code",
   "execution_count": 17,
   "id": "6c67ddc8-f6fb-4ce4-94eb-e475407aa360",
   "metadata": {},
   "outputs": [],
   "source": [
    "import pandas as pd\n",
    "dat = pd.read_csv(\"results.csv\", index_col = 0)"
   ]
  },
  {
   "cell_type": "code",
   "execution_count": 18,
   "id": "10b59749-fa1c-40f8-99dc-13557ceaf50c",
   "metadata": {},
   "outputs": [],
   "source": [
    "dat = dat[[\"hcf\", \"msgpack\", \"json\"]]"
   ]
  },
  {
   "cell_type": "code",
   "execution_count": 19,
   "id": "29548b1e-5ab3-4594-b4a2-36079a699d0d",
   "metadata": {},
   "outputs": [
    {
     "data": {
      "text/html": [
       "<div>\n",
       "<style scoped>\n",
       "    .dataframe tbody tr th:only-of-type {\n",
       "        vertical-align: middle;\n",
       "    }\n",
       "\n",
       "    .dataframe tbody tr th {\n",
       "        vertical-align: top;\n",
       "    }\n",
       "\n",
       "    .dataframe thead th {\n",
       "        text-align: right;\n",
       "    }\n",
       "</style>\n",
       "<table border=\"1\" class=\"dataframe\">\n",
       "  <thead>\n",
       "    <tr style=\"text-align: right;\">\n",
       "      <th></th>\n",
       "      <th>hcf</th>\n",
       "      <th>msgpack</th>\n",
       "      <th>json</th>\n",
       "    </tr>\n",
       "  </thead>\n",
       "  <tbody>\n",
       "    <tr>\n",
       "      <th>count</th>\n",
       "      <td>10.000000</td>\n",
       "      <td>10.000000</td>\n",
       "      <td>10.000000</td>\n",
       "    </tr>\n",
       "    <tr>\n",
       "      <th>mean</th>\n",
       "      <td>0.000457</td>\n",
       "      <td>1.034175</td>\n",
       "      <td>8.378461</td>\n",
       "    </tr>\n",
       "    <tr>\n",
       "      <th>std</th>\n",
       "      <td>0.000387</td>\n",
       "      <td>0.045461</td>\n",
       "      <td>0.084455</td>\n",
       "    </tr>\n",
       "    <tr>\n",
       "      <th>min</th>\n",
       "      <td>0.000275</td>\n",
       "      <td>1.001038</td>\n",
       "      <td>8.285080</td>\n",
       "    </tr>\n",
       "    <tr>\n",
       "      <th>25%</th>\n",
       "      <td>0.000290</td>\n",
       "      <td>1.004725</td>\n",
       "      <td>8.313052</td>\n",
       "    </tr>\n",
       "    <tr>\n",
       "      <th>50%</th>\n",
       "      <td>0.000310</td>\n",
       "      <td>1.013451</td>\n",
       "      <td>8.363157</td>\n",
       "    </tr>\n",
       "    <tr>\n",
       "      <th>75%</th>\n",
       "      <td>0.000373</td>\n",
       "      <td>1.043497</td>\n",
       "      <td>8.434912</td>\n",
       "    </tr>\n",
       "    <tr>\n",
       "      <th>max</th>\n",
       "      <td>0.001538</td>\n",
       "      <td>1.145863</td>\n",
       "      <td>8.547929</td>\n",
       "    </tr>\n",
       "  </tbody>\n",
       "</table>\n",
       "</div>"
      ],
      "text/plain": [
       "             hcf    msgpack       json\n",
       "count  10.000000  10.000000  10.000000\n",
       "mean    0.000457   1.034175   8.378461\n",
       "std     0.000387   0.045461   0.084455\n",
       "min     0.000275   1.001038   8.285080\n",
       "25%     0.000290   1.004725   8.313052\n",
       "50%     0.000310   1.013451   8.363157\n",
       "75%     0.000373   1.043497   8.434912\n",
       "max     0.001538   1.145863   8.547929"
      ]
     },
     "execution_count": 19,
     "metadata": {},
     "output_type": "execute_result"
    }
   ],
   "source": [
    "dat.describe()"
   ]
  },
  {
   "cell_type": "code",
   "execution_count": 20,
   "id": "08251ca3-23dd-4d33-a30e-444552268b95",
   "metadata": {},
   "outputs": [
    {
     "data": {
      "image/png": "[encoded data removed]",
      "text/plain": [
       "<Figure size 640x480 with 1 Axes>"
      ]
     },
     "metadata": {},
     "output_type": "display_data"
    }
   ],
   "source": [
    "dat.boxplot();"
   ]
  },
  {
   "cell_type": "code",
   "execution_count": 21,
   "id": "7a5946c1-4c08-4fcc-ae1e-172a9533c6a4",
   "metadata": {},
   "outputs": [],
   "source": [
    "dat.mean().plot.bar(title=\"Loading Time (seconds)\");"
   ]
  },
  {
   "cell_type": "code",
   "execution_count": 22,
   "id": "d2b1d568-e99f-40c2-83ab-c68a570b4ef3",
   "metadata": {},
   "outputs": [],
   "source": [
    "dat2 = pd.DataFrame({\"hcf\" : [179] ,\"msgpack\" : [357],  \"json\" : [834]})"
   ]
  },
  {
   "cell_type": "code",
   "execution_count": 23,
   "id": "bbe3680f-dfe3-4883-bb39-96359df28488",
   "metadata": {},
   "outputs": [],
   "source": [
    "dat2.mean().plot.bar(title=\"File Size (MB)\");"
   ]
  },
  {
   "cell_type": "code",
   "execution_count": null,
   "id": "5e95215a-3124-4172-9170-732739d68f18",
   "metadata": {},
   "outputs": [],
   "source": []
  }
 ],
 "metadata": {
  "kernelspec": {
   "display_name": "Python 3 (ipykernel)",
   "language": "python",
   "name": "python3"
  },
  "language_info": {
   "codemirror_mode": {
    "name": "ipython",
    "version": 3
   },
   "file_extension": ".py",
   "mimetype": "text/x-python",
   "name": "python",
   "nbconvert_exporter": "python",
   "pygments_lexer": "ipython3",
   "version": "3.11.8"
  }
 },
 "nbformat": 4,
 "nbformat_minor": 5
}
