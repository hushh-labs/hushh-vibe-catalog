{
 "cells": [
  {
   "cell_type": "code",
   "execution_count": 1,
   "id": "93c919c7-2e61-4773-b36a-2d84d027d51d",
   "metadata": {},
   "outputs": [],
   "source": [
    "from hushh.catalog import Catalog"
   ]
  },
  {
   "cell_type": "code",
   "execution_count": 2,
   "id": "678bda31-ac76-4f58-b44a-deae160ce632",
   "metadata": {},
   "outputs": [
    {
     "data": {
      "text/plain": [
       "<hushh.hcf.Catalog.Catalog at 0x10730a7d0>"
      ]
     },
     "execution_count": 2,
     "metadata": {},
     "output_type": "execute_result"
    }
   ],
   "source": [
    "Catalog.read_hcf(\"catalog.hcf\")"
   ]
  },
  {
   "cell_type": "code",
   "execution_count": null,
   "id": "a2c68ae4-dda1-4aef-9ae5-b5e2c1b55ac4",
   "metadata": {},
   "outputs": [],
   "source": []
  }
 ],
 "metadata": {
  "kernelspec": {
   "display_name": "Python 3 (ipykernel)",
   "language": "python",
   "name": "python3"
  },
  "language_info": {
   "codemirror_mode": {
    "name": "ipython",
    "version": 3
   },
   "file_extension": ".py",
   "mimetype": "text/x-python",
   "name": "python",
   "nbconvert_exporter": "python",
   "pygments_lexer": "ipython3",
   "version": "3.11.6"
  }
 },
 "nbformat": 4,
 "nbformat_minor": 5
}
