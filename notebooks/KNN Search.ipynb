{
 "cells": [
  {
   "cell_type": "code",
   "execution_count": 106,
   "id": "93c919c7-2e61-4773-b36a-2d84d027d51d",
   "metadata": {},
   "outputs": [],
   "source": [
    "from hushh import catalog\n",
    "from hushh.hcf.VibeMode import VibeMode\n",
    "import numpy as np\n",
    "from sentence_transformers import util"
   ]
  },
  {
   "cell_type": "code",
   "execution_count": 107,
   "id": "678bda31-ac76-4f58-b44a-deae160ce632",
   "metadata": {},
   "outputs": [],
   "source": []
  },
  {
   "cell_type": "code",
   "execution_count": 114,
   "id": "a2c68ae4-dda1-4aef-9ae5-b5e2c1b55ac4",
   "metadata": {},
   "outputs": [],
   "source": [
    "def perform_search(query):\n",
    "    cat = catalog.read_hcf(\"catalog.hcf\")\n",
    "    pv = cat.ProductVibes()\n",
    "    all_embeddings = []\n",
    "    \n",
    "    embeddings = {\n",
    "        VibeMode.ProductText : [], \n",
    "        VibeMode.ProductImage : []\n",
    "    }\n",
    "    \n",
    "    for idx in range(0,pv.FlatBatchesLength()):\n",
    "        batch = pv.FlatBatches(idx)\n",
    "        embs = batch.FlatTensorAsNumpy()\n",
    "        embs = embs.reshape(batch.ShapeAsNumpy())\n",
    "        embeddings[batch.VibeMode()].append(embs)\n",
    "    \n",
    "    for mode in embeddings.keys():\n",
    "        embeddings[mode] = np.concatenate(embeddings[mode])\n",
    "        \n",
    "    query = \"shoes\"\n",
    "    model = CLIPModel.from_pretrained(\"openai/clip-vit-base-patch32\")\n",
    "    inputs = tokenizer([query], padding=True, return_tensors=\"pt\")\n",
    "    query_emb = model.get_text_features(**inputs)\n",
    "    hits = util.semantic_search(query_emb, embeddings[VibeMode.ProductText], top_k=3)[0]\n",
    "    return cat.ProductVibes().Products(hits[0]['corpus_id']).Description()"
   ]
  },
  {
   "cell_type": "code",
   "execution_count": 117,
   "id": "bcc941a6-f65a-46af-8ee2-5b90c4bd14fc",
   "metadata": {},
   "outputs": [
    {
     "data": {
      "text/plain": [
       "b'Enroute Men Black Shoes'"
      ]
     },
     "execution_count": 117,
     "metadata": {},
     "output_type": "execute_result"
    }
   ],
   "source": [
    "perform_search(\"shoes\")"
   ]
  },
  {
   "cell_type": "code",
   "execution_count": 116,
   "id": "b3550f6e-4ce0-4bd6-8b2d-6668e07404de",
   "metadata": {},
   "outputs": [
    {
     "name": "stdout",
     "output_type": "stream",
     "text": [
      "398 ms ± 19.5 ms per loop (mean ± std. dev. of 7 runs, 3 loops each)\n"
     ]
    }
   ],
   "source": [
    "%timeit -n 3 perform_search(\"shoes\")"
   ]
  },
  {
   "cell_type": "code",
   "execution_count": null,
   "id": "1c53bea0-329c-4e20-a93f-6ad690815e20",
   "metadata": {},
   "outputs": [],
   "source": []
  }
 ],
 "metadata": {
  "kernelspec": {
   "display_name": "Python 3 (ipykernel)",
   "language": "python",
   "name": "python3"
  },
  "language_info": {
   "codemirror_mode": {
    "name": "ipython",
    "version": 3
   },
   "file_extension": ".py",
   "mimetype": "text/x-python",
   "name": "python",
   "nbconvert_exporter": "python",
   "pygments_lexer": "ipython3",
   "version": "3.11.6"
  }
 },
 "nbformat": 4,
 "nbformat_minor": 5
}
