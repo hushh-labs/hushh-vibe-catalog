{
 "cells": [
  {
   "cell_type": "code",
   "execution_count": 71,
   "id": "93c919c7-2e61-4773-b36a-2d84d027d51d",
   "metadata": {},
   "outputs": [],
   "source": [
    "from hushh import catalog\n",
    "from hushh.hcf.VibeMode import VibeMode\n",
    "import numpy as np\n",
    "from sentence_transformers import util"
   ]
  },
  {
   "cell_type": "code",
   "execution_count": 72,
   "id": "678bda31-ac76-4f58-b44a-deae160ce632",
   "metadata": {},
   "outputs": [],
   "source": [
    "cat = catalog.read_hcf(\"catalog.hcf\")"
   ]
  },
  {
   "cell_type": "code",
   "execution_count": 73,
   "id": "a1d86286-c8e1-4e25-9680-08870d01fd4f",
   "metadata": {},
   "outputs": [],
   "source": [
    "pv = cat.ProductVibes()"
   ]
  },
  {
   "cell_type": "code",
   "execution_count": 74,
   "id": "8ce6f704-4790-4a01-9a6e-cb7f8293fd0a",
   "metadata": {},
   "outputs": [
    {
     "data": {
      "text/plain": [
       "0"
      ]
     },
     "execution_count": 74,
     "metadata": {},
     "output_type": "execute_result"
    }
   ],
   "source": [
    "VibeMode.ProductText"
   ]
  },
  {
   "cell_type": "code",
   "execution_count": 94,
   "id": "a2c68ae4-dda1-4aef-9ae5-b5e2c1b55ac4",
   "metadata": {},
   "outputs": [],
   "source": [
    "pv = cat.ProductVibes()\n",
    "all_embeddings = []\n",
    "\n",
    "\n",
    "\n",
    "embeddings = {\n",
    "    VibeMode.ProductText : [], \n",
    "    VibeMode.ProductImage : []\n",
    "}\n",
    "\n",
    "for idx in range(0,pv.FlatBatchesLength()):\n",
    "    batch = pv.FlatBatches(idx)\n",
    "    embs = batch.FlatTensorAsNumpy()\n",
    "    embs = embs.reshape(batch.ShapeAsNumpy())\n",
    "    embeddings[batch.VibeMode()].append(embs)\n",
    "\n",
    "for mode in embeddings.keys():\n",
    "    embeddings[mode] = np.concatenate(embeddings[mode])"
   ]
  },
  {
   "cell_type": "code",
   "execution_count": 95,
   "id": "bcc941a6-f65a-46af-8ee2-5b90c4bd14fc",
   "metadata": {},
   "outputs": [],
   "source": [
    "query = \"shoes\"\n",
    "model = CLIPModel.from_pretrained(\"openai/clip-vit-base-patch32\")\n",
    "inputs = tokenizer([query], padding=True, return_tensors=\"pt\")\n",
    "query_emb = model.get_text_features(**inputs)\n"
   ]
  },
  {
   "cell_type": "code",
   "execution_count": 98,
   "id": "b3550f6e-4ce0-4bd6-8b2d-6668e07404de",
   "metadata": {},
   "outputs": [
    {
     "data": {
      "text/plain": [
       "[{'corpus_id': 629, 'score': 0.8904232978820801},\n",
       " {'corpus_id': 37728, 'score': 0.8812409043312073},\n",
       " {'corpus_id': 36190, 'score': 0.8812409043312073}]"
      ]
     },
     "execution_count": 98,
     "metadata": {},
     "output_type": "execute_result"
    }
   ],
   "source": [
    "hits = util.semantic_search(query_emb, embeddings[VibeMode.ProductText], top_k=3)[0]\n",
    "hits"
   ]
  },
  {
   "cell_type": "code",
   "execution_count": 105,
   "id": "e854f056-0904-4152-a228-c0201aacc365",
   "metadata": {},
   "outputs": [
    {
     "data": {
      "text/plain": [
       "b'Enroute Men Black Shoes'"
      ]
     },
     "execution_count": 105,
     "metadata": {},
     "output_type": "execute_result"
    }
   ],
   "source": [
    "cat.ProductVibes().Products(hits[0]['corpus_id']).Description()"
   ]
  },
  {
   "cell_type": "code",
   "execution_count": null,
   "id": "947d4eff-2621-446e-a989-bc9475839253",
   "metadata": {},
   "outputs": [],
   "source": []
  }
 ],
 "metadata": {
  "kernelspec": {
   "display_name": "Python 3 (ipykernel)",
   "language": "python",
   "name": "python3"
  },
  "language_info": {
   "codemirror_mode": {
    "name": "ipython",
    "version": 3
   },
   "file_extension": ".py",
   "mimetype": "text/x-python",
   "name": "python",
   "nbconvert_exporter": "python",
   "pygments_lexer": "ipython3",
   "version": "3.11.6"
  }
 },
 "nbformat": 4,
 "nbformat_minor": 5
}
