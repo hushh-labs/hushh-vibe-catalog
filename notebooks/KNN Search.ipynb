{
 "cells": [
  {
   "cell_type": "code",
   "execution_count": 56,
   "id": "93c919c7-2e61-4773-b36a-2d84d027d51d",
   "metadata": {},
   "outputs": [],
   "source": [
    "from hushh.catalog import Catalog\n",
    "from hushh.hcf import VibeMode\n",
    "import numpy as np"
   ]
  },
  {
   "cell_type": "code",
   "execution_count": 45,
   "id": "678bda31-ac76-4f58-b44a-deae160ce632",
   "metadata": {},
   "outputs": [],
   "source": [
    "cat = Catalog.read_hcf(\"catalog.hcf\")"
   ]
  },
  {
   "cell_type": "code",
   "execution_count": 46,
   "id": "a1d86286-c8e1-4e25-9680-08870d01fd4f",
   "metadata": {},
   "outputs": [],
   "source": [
    "pv = cat.ProductVibes()"
   ]
  },
  {
   "cell_type": "code",
   "execution_count": 68,
   "id": "a2c68ae4-dda1-4aef-9ae5-b5e2c1b55ac4",
   "metadata": {},
   "outputs": [
    {
     "name": "stdout",
     "output_type": "stream",
     "text": [
      "(5120000,)\n",
      "(5120000,)\n",
      "(5120000,)\n",
      "(5120000,)\n",
      "(5120000,)\n",
      "(5120000,)\n",
      "(5120000,)\n",
      "(5120000,)\n",
      "(2270208,)\n",
      "(2270208,)\n"
     ]
    },
    {
     "data": {
      "text/plain": [
       "(88868, 512)"
      ]
     },
     "execution_count": 68,
     "metadata": {},
     "output_type": "execute_result"
    }
   ],
   "source": [
    "pv = cat.ProductVibes()\n",
    "all_embeddings = []\n",
    "for idx in range(0,pv.FlatBatchesLength()):\n",
    "    batch = pv.FlatBatches(idx)\n",
    "    type = batch.Type()\n",
    "    embeddings = batch.FlatTensorAsNumpy()\n",
    "    print(embeddings.shape)\n",
    "    embeddings = embeddings.reshape(batch.ShapeAsNumpy())\n",
    "    all_embeddings.append(embeddings)\n",
    "all_embeddings = np.concatenate(all_embeddings)\n",
    "all_embeddings.shape"
   ]
  },
  {
   "cell_type": "code",
   "execution_count": 67,
   "id": "999b9731-635e-4bd5-9733-3bb538d46956",
   "metadata": {},
   "outputs": [
    {
     "data": {
      "text/plain": [
       "['FlatTensor',\n",
       " 'FlatTensorAsNumpy',\n",
       " 'FlatTensorIsNone',\n",
       " 'FlatTensorLength',\n",
       " 'GetRootAs',\n",
       " 'GetRootAsFlatEmbeddingBatch',\n",
       " 'Id',\n",
       " 'Init',\n",
       " 'Sequence',\n",
       " 'Shape',\n",
       " 'ShapeAsNumpy',\n",
       " 'ShapeIsNone',\n",
       " 'ShapeLength',\n",
       " 'Type',\n",
       " '__class__',\n",
       " '__delattr__',\n",
       " '__dir__',\n",
       " '__doc__',\n",
       " '__eq__',\n",
       " '__format__',\n",
       " '__ge__',\n",
       " '__getattribute__',\n",
       " '__getstate__',\n",
       " '__gt__',\n",
       " '__hash__',\n",
       " '__init__',\n",
       " '__init_subclass__',\n",
       " '__le__',\n",
       " '__lt__',\n",
       " '__module__',\n",
       " '__ne__',\n",
       " '__new__',\n",
       " '__reduce__',\n",
       " '__reduce_ex__',\n",
       " '__repr__',\n",
       " '__setattr__',\n",
       " '__sizeof__',\n",
       " '__slots__',\n",
       " '__str__',\n",
       " '__subclasshook__',\n",
       " '_tab']"
      ]
     },
     "execution_count": 67,
     "metadata": {},
     "output_type": "execute_result"
    }
   ],
   "source": [
    "dir(batch)"
   ]
  },
  {
   "cell_type": "code",
   "execution_count": null,
   "id": "b3550f6e-4ce0-4bd6-8b2d-6668e07404de",
   "metadata": {},
   "outputs": [],
   "source": []
  }
 ],
 "metadata": {
  "kernelspec": {
   "display_name": "Python 3 (ipykernel)",
   "language": "python",
   "name": "python3"
  },
  "language_info": {
   "codemirror_mode": {
    "name": "ipython",
    "version": 3
   },
   "file_extension": ".py",
   "mimetype": "text/x-python",
   "name": "python",
   "nbconvert_exporter": "python",
   "pygments_lexer": "ipython3",
   "version": "3.11.6"
  }
 },
 "nbformat": 4,
 "nbformat_minor": 5
}
