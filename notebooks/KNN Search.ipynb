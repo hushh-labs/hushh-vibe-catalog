{
 "cells": [
  {
   "cell_type": "code",
   "execution_count": 71,
   "id": "93c919c7-2e61-4773-b36a-2d84d027d51d",
   "metadata": {},
   "outputs": [],
   "source": [
    "from hushh import catalog\n",
    "from hushh.hcf.VibeMode import VibeMode\n",
    "import numpy as np\n",
    "from sentence_transformers import util"
   ]
  },
  {
   "cell_type": "code",
   "execution_count": 72,
   "id": "678bda31-ac76-4f58-b44a-deae160ce632",
   "metadata": {},
   "outputs": [],
   "source": [
    "cat = catalog.read_hcf(\"catalog.hcf\")"
   ]
  },
  {
   "cell_type": "code",
   "execution_count": 73,
   "id": "a1d86286-c8e1-4e25-9680-08870d01fd4f",
   "metadata": {},
   "outputs": [],
   "source": [
    "pv = cat.ProductVibes()"
   ]
  },
  {
   "cell_type": "code",
   "execution_count": 74,
   "id": "8ce6f704-4790-4a01-9a6e-cb7f8293fd0a",
   "metadata": {},
   "outputs": [
    {
     "data": {
      "text/plain": [
       "0"
      ]
     },
     "execution_count": 74,
     "metadata": {},
     "output_type": "execute_result"
    }
   ],
   "source": [
    "VibeMode.ProductText"
   ]
  },
  {
   "cell_type": "code",
   "execution_count": 75,
   "id": "a2c68ae4-dda1-4aef-9ae5-b5e2c1b55ac4",
   "metadata": {},
   "outputs": [],
   "source": [
    "pv = cat.ProductVibes()\n",
    "all_embeddings = []\n",
    "\n",
    "\n",
    "\n",
    "embeddings = {\n",
    "    VibeMode.ProductText : [], \n",
    "    VibeMode.ProductImage : []\n",
    "}\n",
    "for idx in range(0,pv.FlatBatchesLength()):\n",
    "    batch = pv.FlatBatches(idx)\n",
    "    embs = batch.FlatTensorAsNumpy()\n",
    "    embs = embs.reshape(batch.ShapeAsNumpy())\n",
    "    embeddings[batch.VibeMode()].append(embs)\n",
    "\n",
    "embeddings[VibeMode.ProductText] = np.concatenate(embeddings[VibeMode.ProductText])"
   ]
  },
  {
   "cell_type": "code",
   "execution_count": null,
   "id": "bcc941a6-f65a-46af-8ee2-5b90c4bd14fc",
   "metadata": {},
   "outputs": [],
   "source": []
  },
  {
   "cell_type": "code",
   "execution_count": 69,
   "id": "b3550f6e-4ce0-4bd6-8b2d-6668e07404de",
   "metadata": {},
   "outputs": [
    {
     "ename": "NameError",
     "evalue": "name 'ProductText' is not defined",
     "output_type": "error",
     "traceback": [
      "\u001b[0;31m---------------------------------------------------------------------------\u001b[0m",
      "\u001b[0;31mNameError\u001b[0m                                 Traceback (most recent call last)",
      "Cell \u001b[0;32mIn[69], line 1\u001b[0m\n\u001b[0;32m----> 1\u001b[0m \u001b[43mProductText\u001b[49m\n",
      "\u001b[0;31mNameError\u001b[0m: name 'ProductText' is not defined"
     ]
    }
   ],
   "source": [
    "hits = util.semantic_search(query_emb, img_emb, top_k=top_k)[0]"
   ]
  },
  {
   "cell_type": "code",
   "execution_count": 83,
   "id": "02490587-4844-428c-a756-1c687a0dffec",
   "metadata": {},
   "outputs": [],
   "source": [
    "from transformers import CLIPModel, CLIPProcessor, CLIPTokenizer\n",
    "processor = CLIPProcessor.from_pretrained(\"openai/clip-vit-base-patch32\")"
   ]
  },
  {
   "cell_type": "code",
   "execution_count": 91,
   "id": "7731877f-67d2-4a7d-a0ea-2bde7cfa3bee",
   "metadata": {},
   "outputs": [
    {
     "data": {
      "text/plain": [
       "CLIPImageProcessor {\n",
       "  \"crop_size\": {\n",
       "    \"height\": 224,\n",
       "    \"width\": 224\n",
       "  },\n",
       "  \"do_center_crop\": true,\n",
       "  \"do_convert_rgb\": true,\n",
       "  \"do_normalize\": true,\n",
       "  \"do_rescale\": true,\n",
       "  \"do_resize\": true,\n",
       "  \"feature_extractor_type\": \"CLIPFeatureExtractor\",\n",
       "  \"image_mean\": [\n",
       "    0.48145466,\n",
       "    0.4578275,\n",
       "    0.40821073\n",
       "  ],\n",
       "  \"image_processor_type\": \"CLIPImageProcessor\",\n",
       "  \"image_std\": [\n",
       "    0.26862954,\n",
       "    0.26130258,\n",
       "    0.27577711\n",
       "  ],\n",
       "  \"resample\": 3,\n",
       "  \"rescale_factor\": 0.00392156862745098,\n",
       "  \"size\": {\n",
       "    \"shortest_edge\": 224\n",
       "  }\n",
       "}"
      ]
     },
     "execution_count": 91,
     "metadata": {},
     "output_type": "execute_result"
    }
   ],
   "source": [
    "processor.image_processor"
   ]
  },
  {
   "cell_type": "code",
   "execution_count": 79,
   "id": "2a4c916c-524b-49b8-9cff-58a72d902279",
   "metadata": {},
   "outputs": [
    {
     "data": {
      "text/plain": [
       "'openai/clip-vit-base-patch32'"
      ]
     },
     "execution_count": 79,
     "metadata": {},
     "output_type": "execute_result"
    }
   ],
   "source": [
    "tokenizer.name_or_path"
   ]
  },
  {
   "cell_type": "code",
   "execution_count": 80,
   "id": "7e275ca7-cd3b-4c2a-8be4-9066d107ecb8",
   "metadata": {},
   "outputs": [],
   "source": [
    "model = CLIPModel.from_pretrained(\"openai/clip-vit-base-patch32\")"
   ]
  },
  {
   "cell_type": "code",
   "execution_count": 81,
   "id": "ad9537cd-6354-4b61-9b58-bdf40d2c185a",
   "metadata": {},
   "outputs": [
    {
     "data": {
      "text/plain": [
       "CLIPModel(\n",
       "  (text_model): CLIPTextTransformer(\n",
       "    (embeddings): CLIPTextEmbeddings(\n",
       "      (token_embedding): Embedding(49408, 512)\n",
       "      (position_embedding): Embedding(77, 512)\n",
       "    )\n",
       "    (encoder): CLIPEncoder(\n",
       "      (layers): ModuleList(\n",
       "        (0-11): 12 x CLIPEncoderLayer(\n",
       "          (self_attn): CLIPAttention(\n",
       "            (k_proj): Linear(in_features=512, out_features=512, bias=True)\n",
       "            (v_proj): Linear(in_features=512, out_features=512, bias=True)\n",
       "            (q_proj): Linear(in_features=512, out_features=512, bias=True)\n",
       "            (out_proj): Linear(in_features=512, out_features=512, bias=True)\n",
       "          )\n",
       "          (layer_norm1): LayerNorm((512,), eps=1e-05, elementwise_affine=True)\n",
       "          (mlp): CLIPMLP(\n",
       "            (activation_fn): QuickGELUActivation()\n",
       "            (fc1): Linear(in_features=512, out_features=2048, bias=True)\n",
       "            (fc2): Linear(in_features=2048, out_features=512, bias=True)\n",
       "          )\n",
       "          (layer_norm2): LayerNorm((512,), eps=1e-05, elementwise_affine=True)\n",
       "        )\n",
       "      )\n",
       "    )\n",
       "    (final_layer_norm): LayerNorm((512,), eps=1e-05, elementwise_affine=True)\n",
       "  )\n",
       "  (vision_model): CLIPVisionTransformer(\n",
       "    (embeddings): CLIPVisionEmbeddings(\n",
       "      (patch_embedding): Conv2d(3, 768, kernel_size=(32, 32), stride=(32, 32), bias=False)\n",
       "      (position_embedding): Embedding(50, 768)\n",
       "    )\n",
       "    (pre_layrnorm): LayerNorm((768,), eps=1e-05, elementwise_affine=True)\n",
       "    (encoder): CLIPEncoder(\n",
       "      (layers): ModuleList(\n",
       "        (0-11): 12 x CLIPEncoderLayer(\n",
       "          (self_attn): CLIPAttention(\n",
       "            (k_proj): Linear(in_features=768, out_features=768, bias=True)\n",
       "            (v_proj): Linear(in_features=768, out_features=768, bias=True)\n",
       "            (q_proj): Linear(in_features=768, out_features=768, bias=True)\n",
       "            (out_proj): Linear(in_features=768, out_features=768, bias=True)\n",
       "          )\n",
       "          (layer_norm1): LayerNorm((768,), eps=1e-05, elementwise_affine=True)\n",
       "          (mlp): CLIPMLP(\n",
       "            (activation_fn): QuickGELUActivation()\n",
       "            (fc1): Linear(in_features=768, out_features=3072, bias=True)\n",
       "            (fc2): Linear(in_features=3072, out_features=768, bias=True)\n",
       "          )\n",
       "          (layer_norm2): LayerNorm((768,), eps=1e-05, elementwise_affine=True)\n",
       "        )\n",
       "      )\n",
       "    )\n",
       "    (post_layernorm): LayerNorm((768,), eps=1e-05, elementwise_affine=True)\n",
       "  )\n",
       "  (visual_projection): Linear(in_features=768, out_features=512, bias=False)\n",
       "  (text_projection): Linear(in_features=512, out_features=512, bias=False)\n",
       ")"
      ]
     },
     "execution_count": 81,
     "metadata": {},
     "output_type": "execute_result"
    }
   ],
   "source": [
    "model"
   ]
  },
  {
   "cell_type": "code",
   "execution_count": 82,
   "id": "5002f370-9820-4347-8e78-ff585fcdde5d",
   "metadata": {},
   "outputs": [
    {
     "data": {
      "text/plain": [
       "'openai/clip-vit-base-patch32'"
      ]
     },
     "execution_count": 82,
     "metadata": {},
     "output_type": "execute_result"
    }
   ],
   "source": [
    "model.name_or_path"
   ]
  },
  {
   "cell_type": "code",
   "execution_count": null,
   "id": "fbf73e26-a3c6-41b0-9a64-37ee0191f34f",
   "metadata": {},
   "outputs": [],
   "source": []
  }
 ],
 "metadata": {
  "kernelspec": {
   "display_name": "Python 3 (ipykernel)",
   "language": "python",
   "name": "python3"
  },
  "language_info": {
   "codemirror_mode": {
    "name": "ipython",
    "version": 3
   },
   "file_extension": ".py",
   "mimetype": "text/x-python",
   "name": "python",
   "nbconvert_exporter": "python",
   "pygments_lexer": "ipython3",
   "version": "3.11.6"
  }
 },
 "nbformat": 4,
 "nbformat_minor": 5
}
